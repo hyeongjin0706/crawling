{
  "nbformat": 4,
  "nbformat_minor": 0,
  "metadata": {
    "colab": {
      "provenance": []
    },
    "kernelspec": {
      "name": "python3",
      "display_name": "Python 3"
    },
    "language_info": {
      "name": "python"
    }
  },
  "cells": [
    {
      "cell_type": "markdown",
      "source": [
        "* 크롤링(Crawling): 인터넷의 데이터를 활용하기 위해 정보들을 분석하고 활용할 수 있도록 수집하는 행위\n",
        "* 스크레이핑(Scraping): 크롤링 + 데이터를 추출해서 가공하는 최종 목표"
      ],
      "metadata": {
        "id": "hc_xjiSvTh4V"
      }
    },
    {
      "cell_type": "markdown",
      "source": [
        "# 1. Basic English Speaking"
      ],
      "metadata": {
        "id": "zEoxRYx8T24e"
      }
    },
    {
      "cell_type": "code",
      "source": [
        "import requests\n",
        "from bs4 import BeautifulSoup"
      ],
      "metadata": {
        "id": "vDjuJJq-UVsU"
      },
      "execution_count": 100,
      "outputs": []
    },
    {
      "cell_type": "code",
      "source": [
        "site = 'https://basicenglishspeaking.com/daily-english-conversation-topics/'\n",
        "request = requests.get(site)\n",
        "print(request) # 객체를 출력하면 응답 코드가 나옴\n",
        "# print(request.text)"
      ],
      "metadata": {
        "colab": {
          "base_uri": "https://localhost:8080/"
        },
        "id": "2ACtHBWzUgXd",
        "outputId": "4f7ca4c4-18a6-442b-eb65-99bda0cb92c6"
      },
      "execution_count": 101,
      "outputs": [
        {
          "output_type": "stream",
          "name": "stdout",
          "text": [
            "<Response [200]>\n"
          ]
        }
      ]
    },
    {
      "cell_type": "code",
      "source": [
        "soup = BeautifulSoup(request.text)"
      ],
      "metadata": {
        "id": "piDBSRpeU_2L"
      },
      "execution_count": 102,
      "outputs": []
    },
    {
      "cell_type": "code",
      "source": [
        "divs = soup.find('div', {'class': 'thrv-columns'})\n",
        "print(divs)"
      ],
      "metadata": {
        "colab": {
          "base_uri": "https://localhost:8080/"
        },
        "id": "L0w6ld4-VSKb",
        "outputId": "395611bf-ac62-48ec-8727-699e69a55ee4"
      },
      "execution_count": 103,
      "outputs": [
        {
          "output_type": "stream",
          "name": "stdout",
          "text": [
            "<div class=\"thrv_wrapper thrv-columns\" style=\"--tcb-col-el-width:792;\"><div class=\"tcb-flex-row tcb--cols--3\"><div class=\"tcb-flex-col\"><div class=\"tcb-col\"><div class=\"thrv_wrapper thrv_text_element\"><p>1. <a class=\"tve-froala\" href=\"https://basicenglishspeaking.com/family/\" style=\"outline: none;\">Family</a><br/>2. <a class=\"tve-froala\" href=\"https://basicenglishspeaking.com/restaurant/\" style=\"outline: none;\">Restaurant</a><br/>3. <a href=\"https://basicenglishspeaking.com/books/\">Books</a><br/>4. <a href=\"https://basicenglishspeaking.com/travel/\">Travel</a><br/>5. <a href=\"https://basicenglishspeaking.com/website/\">Website</a><br/>6. <a href=\"https://basicenglishspeaking.com/accident/\">Accident</a><br/>7. <a class=\"tve-froala\" href=\"https://basicenglishspeaking.com/childhood-memory/\" style=\"outline: none;\">Childhood memory</a><br/>8. <a class=\"tve-froala\" href=\"https://basicenglishspeaking.com/favorite-rooms/\" style=\"outline: none;\">Favorite rooms</a><br/>9. <a href=\"https://basicenglishspeaking.com/presents/\">Presents</a><br/>10. <a class=\"tve-froala\" href=\"https://basicenglishspeaking.com/historical-place/\" style=\"outline: none;\">Historical place</a><br/>11. <a class=\"tve-froala\" href=\"https://basicenglishspeaking.com/newspaper-magazine/\" style=\"outline: none;\">Newspaper/ Magazine</a><br/>12. <a href=\"https://basicenglishspeaking.com/an-event/\">A memorable event</a><br/>13. <a href=\"https://basicenglishspeaking.com/a-subject/\">A favorite subject</a><br/>14. <a href=\"https://basicenglishspeaking.com/a-museum/\">A museum</a><br/>15. <a href=\"https://basicenglishspeaking.com/a-movie/\">A favorite movie</a><br/>16. <a href=\"https://basicenglishspeaking.com/a-foreign-country/\">A foreign country</a><br/>17. <a href=\"https://basicenglishspeaking.com/parties/\">Parties</a><br/>18. <a href=\"https://basicenglishspeaking.com/a-teacher/\">A teacher</a><br/>19. <a href=\"https://basicenglishspeaking.com/a-friend/\">A friend</a><br/>20. <a href=\"https://basicenglishspeaking.com/a-hotel/\">A hotel</a><br/>21. <a href=\"https://basicenglishspeaking.com/a-letter/\">A letter</a><br/>22. <a href=\"https://basicenglishspeaking.com/hobbies/\">Hobbies</a><br/>23. <a href=\"https://basicenglishspeaking.com/music/\">Music</a><br/>24. <a href=\"https://basicenglishspeaking.com/shopping/\">Shopping</a><br/>25. <a href=\"https://basicenglishspeaking.com/holiday/\">Holiday</a></p></div></div></div><div class=\"tcb-flex-col\"><div class=\"tcb-col\"><div class=\"thrv_wrapper thrv_text_element\"><p>26. <a class=\"tve-froala\" href=\"https://basicenglishspeaking.com/animals/\" style=\"outline: none;\">Animals</a><br/>27. <a class=\"tve-froala\" href=\"https://basicenglishspeaking.com/a-practical-skill/\" style=\"outline: none;\">A practical skill</a><br/>28. <a href=\"https://basicenglishspeaking.com/sports/\">Sport</a><br/>29. <a href=\"https://basicenglishspeaking.com/a-school/\">A School</a><br/>30. <a href=\"https://basicenglishspeaking.com/festival/\">Festival</a><br/>31. <a href=\"https://basicenglishspeaking.com/food/\">Food</a><br/>32. <a href=\"https://basicenglishspeaking.com/household-appliance/\">Household appliance</a><br/>33. <a href=\"https://basicenglishspeaking.com/a-music-band/\">A music band</a><br/>34. <a href=\"https://basicenglishspeaking.com/weather/\">Weather</a><br/>35. <a href=\"https://basicenglishspeaking.com/neighbor/\">Neighbor</a><br/>36. <a href=\"https://basicenglishspeaking.com/natural-scenery/\">Natural scenery</a><br/>37. <a href=\"https://basicenglishspeaking.com/outdoor-activities/\">Outdoor activities</a><br/>38. <a href=\"https://basicenglishspeaking.com/law/\">Law</a><br/>39. <a href=\"https://basicenglishspeaking.com/pollution/\">Pollution</a><br/>40. <a href=\"https://basicenglishspeaking.com/traffic-jam/\">Traffic jam</a><br/>41. <a href=\"https://basicenglishspeaking.com/tv-program/\">TV program</a><br/>42. <a href=\"https://basicenglishspeaking.com/architecture-building/\">Architect/ Building</a><br/>43. <a href=\"https://basicenglishspeaking.com/electronic-media/\">Electronic Media</a><br/>44. <a href=\"https://basicenglishspeaking.com/job-career/\">Job/ Career</a><br/>45. <a href=\"https://basicenglishspeaking.com/competition-contest/\">Competition/ contest</a><br/>46. <a href=\"https://basicenglishspeaking.com/a-garden/\">A garden</a><br/>47. <a href=\"https://basicenglishspeaking.com/hometown/\">Hometown</a><br/>48. <a href=\"https://basicenglishspeaking.com/clothing/\">Clothing</a><br/>49. <a href=\"https://basicenglishspeaking.com/an-advertisement/\">Advertisement</a><br/>50. <a href=\"https://basicenglishspeaking.com/a-project/\">A project</a></p></div></div></div><div class=\"tcb-flex-col\"><div class=\"tcb-col\"><div class=\"thrv_wrapper thrv_text_element\"><p>51. <a href=\"https://basicenglishspeaking.com/a-wedding/\">A wedding</a><br/>52. <a href=\"https://basicenglishspeaking.com/a-coffee-shop/\">A Coffee shop</a><br/>53. <a href=\"https://basicenglishspeaking.com/culture/\">Culture</a><br/>54. <a href=\"https://basicenglishspeaking.com/transport/\">Transport</a><br/>55. <a href=\"https://basicenglishspeaking.com/politician/\">Politician</a><br/>56. <a href=\"https://basicenglishspeaking.com/communication/\">Communication</a><br/>57. <a href=\"https://basicenglishspeaking.com/business/\">Business</a><br/>58. <a href=\"https://basicenglishspeaking.com/computer/\">Computer</a><br/>59. <a href=\"https://basicenglishspeaking.com/exercise/\">Exercise</a><br/>60. <a href=\"https://basicenglishspeaking.com/goal-ambition/\">Goal/ ambition</a><br/>61. <a href=\"https://basicenglishspeaking.com/art/\">Art</a><br/>62. <a href=\"https://basicenglishspeaking.com/fashion/\">Fashion</a><br/>63. <a href=\"https://basicenglishspeaking.com/jewelry/\">Jewelry</a><br/>64. <a href=\"https://basicenglishspeaking.com/cosmetic/\">Cosmetic</a><br/>65. <a href=\"https://basicenglishspeaking.com/indoor-game/\">Indoor Game</a><br/>66. <a href=\"https://basicenglishspeaking.com/phone-conversation/\">Phone conversation</a><br/>67. <a href=\"https://basicenglishspeaking.com/learning-second-language/\">Learning A Second language</a><br/>68. <a href=\"https://basicenglishspeaking.com/a-creative-person/\">A Creative Person</a><br/>69. <a href=\"https://basicenglishspeaking.com/a-celebrity/\">A celebrity</a><br/>70. <a href=\"https://basicenglishspeaking.com/a-health-problem/\">A Health Problem</a><br/>71. <a href=\"https://basicenglishspeaking.com/technological-advancements/\">Technological advancements</a><br/>72. <a href=\"https://basicenglishspeaking.com/a-landmark/\">A Landmark</a><br/>73. <a href=\"https://basicenglishspeaking.com/handcraft-items/\">Handcraft Items</a><br/>74. <a href=\"https://basicenglishspeaking.com/plastic-surgery/\">Plastic Surgery</a><br/>75. <a href=\"https://basicenglishspeaking.com/success/\">Success</a></p></div></div></div></div></div>\n"
          ]
        }
      ]
    },
    {
      "cell_type": "code",
      "source": [
        "links = divs.findAll('a')\n",
        "print(links)"
      ],
      "metadata": {
        "colab": {
          "base_uri": "https://localhost:8080/"
        },
        "id": "CVfnPzBxXCZL",
        "outputId": "573a94ea-9239-4994-c210-b0f8ba9ebd28"
      },
      "execution_count": 104,
      "outputs": [
        {
          "output_type": "stream",
          "name": "stdout",
          "text": [
            "[<a class=\"tve-froala\" href=\"https://basicenglishspeaking.com/family/\" style=\"outline: none;\">Family</a>, <a class=\"tve-froala\" href=\"https://basicenglishspeaking.com/restaurant/\" style=\"outline: none;\">Restaurant</a>, <a href=\"https://basicenglishspeaking.com/books/\">Books</a>, <a href=\"https://basicenglishspeaking.com/travel/\">Travel</a>, <a href=\"https://basicenglishspeaking.com/website/\">Website</a>, <a href=\"https://basicenglishspeaking.com/accident/\">Accident</a>, <a class=\"tve-froala\" href=\"https://basicenglishspeaking.com/childhood-memory/\" style=\"outline: none;\">Childhood memory</a>, <a class=\"tve-froala\" href=\"https://basicenglishspeaking.com/favorite-rooms/\" style=\"outline: none;\">Favorite rooms</a>, <a href=\"https://basicenglishspeaking.com/presents/\">Presents</a>, <a class=\"tve-froala\" href=\"https://basicenglishspeaking.com/historical-place/\" style=\"outline: none;\">Historical place</a>, <a class=\"tve-froala\" href=\"https://basicenglishspeaking.com/newspaper-magazine/\" style=\"outline: none;\">Newspaper/ Magazine</a>, <a href=\"https://basicenglishspeaking.com/an-event/\">A memorable event</a>, <a href=\"https://basicenglishspeaking.com/a-subject/\">A favorite subject</a>, <a href=\"https://basicenglishspeaking.com/a-museum/\">A museum</a>, <a href=\"https://basicenglishspeaking.com/a-movie/\">A favorite movie</a>, <a href=\"https://basicenglishspeaking.com/a-foreign-country/\">A foreign country</a>, <a href=\"https://basicenglishspeaking.com/parties/\">Parties</a>, <a href=\"https://basicenglishspeaking.com/a-teacher/\">A teacher</a>, <a href=\"https://basicenglishspeaking.com/a-friend/\">A friend</a>, <a href=\"https://basicenglishspeaking.com/a-hotel/\">A hotel</a>, <a href=\"https://basicenglishspeaking.com/a-letter/\">A letter</a>, <a href=\"https://basicenglishspeaking.com/hobbies/\">Hobbies</a>, <a href=\"https://basicenglishspeaking.com/music/\">Music</a>, <a href=\"https://basicenglishspeaking.com/shopping/\">Shopping</a>, <a href=\"https://basicenglishspeaking.com/holiday/\">Holiday</a>, <a class=\"tve-froala\" href=\"https://basicenglishspeaking.com/animals/\" style=\"outline: none;\">Animals</a>, <a class=\"tve-froala\" href=\"https://basicenglishspeaking.com/a-practical-skill/\" style=\"outline: none;\">A practical skill</a>, <a href=\"https://basicenglishspeaking.com/sports/\">Sport</a>, <a href=\"https://basicenglishspeaking.com/a-school/\">A School</a>, <a href=\"https://basicenglishspeaking.com/festival/\">Festival</a>, <a href=\"https://basicenglishspeaking.com/food/\">Food</a>, <a href=\"https://basicenglishspeaking.com/household-appliance/\">Household appliance</a>, <a href=\"https://basicenglishspeaking.com/a-music-band/\">A music band</a>, <a href=\"https://basicenglishspeaking.com/weather/\">Weather</a>, <a href=\"https://basicenglishspeaking.com/neighbor/\">Neighbor</a>, <a href=\"https://basicenglishspeaking.com/natural-scenery/\">Natural scenery</a>, <a href=\"https://basicenglishspeaking.com/outdoor-activities/\">Outdoor activities</a>, <a href=\"https://basicenglishspeaking.com/law/\">Law</a>, <a href=\"https://basicenglishspeaking.com/pollution/\">Pollution</a>, <a href=\"https://basicenglishspeaking.com/traffic-jam/\">Traffic jam</a>, <a href=\"https://basicenglishspeaking.com/tv-program/\">TV program</a>, <a href=\"https://basicenglishspeaking.com/architecture-building/\">Architect/ Building</a>, <a href=\"https://basicenglishspeaking.com/electronic-media/\">Electronic Media</a>, <a href=\"https://basicenglishspeaking.com/job-career/\">Job/ Career</a>, <a href=\"https://basicenglishspeaking.com/competition-contest/\">Competition/ contest</a>, <a href=\"https://basicenglishspeaking.com/a-garden/\">A garden</a>, <a href=\"https://basicenglishspeaking.com/hometown/\">Hometown</a>, <a href=\"https://basicenglishspeaking.com/clothing/\">Clothing</a>, <a href=\"https://basicenglishspeaking.com/an-advertisement/\">Advertisement</a>, <a href=\"https://basicenglishspeaking.com/a-project/\">A project</a>, <a href=\"https://basicenglishspeaking.com/a-wedding/\">A wedding</a>, <a href=\"https://basicenglishspeaking.com/a-coffee-shop/\">A Coffee shop</a>, <a href=\"https://basicenglishspeaking.com/culture/\">Culture</a>, <a href=\"https://basicenglishspeaking.com/transport/\">Transport</a>, <a href=\"https://basicenglishspeaking.com/politician/\">Politician</a>, <a href=\"https://basicenglishspeaking.com/communication/\">Communication</a>, <a href=\"https://basicenglishspeaking.com/business/\">Business</a>, <a href=\"https://basicenglishspeaking.com/computer/\">Computer</a>, <a href=\"https://basicenglishspeaking.com/exercise/\">Exercise</a>, <a href=\"https://basicenglishspeaking.com/goal-ambition/\">Goal/ ambition</a>, <a href=\"https://basicenglishspeaking.com/art/\">Art</a>, <a href=\"https://basicenglishspeaking.com/fashion/\">Fashion</a>, <a href=\"https://basicenglishspeaking.com/jewelry/\">Jewelry</a>, <a href=\"https://basicenglishspeaking.com/cosmetic/\">Cosmetic</a>, <a href=\"https://basicenglishspeaking.com/indoor-game/\">Indoor Game</a>, <a href=\"https://basicenglishspeaking.com/phone-conversation/\">Phone conversation</a>, <a href=\"https://basicenglishspeaking.com/learning-second-language/\">Learning A Second language</a>, <a href=\"https://basicenglishspeaking.com/a-creative-person/\">A Creative Person</a>, <a href=\"https://basicenglishspeaking.com/a-celebrity/\">A celebrity</a>, <a href=\"https://basicenglishspeaking.com/a-health-problem/\">A Health Problem</a>, <a href=\"https://basicenglishspeaking.com/technological-advancements/\">Technological advancements</a>, <a href=\"https://basicenglishspeaking.com/a-landmark/\">A Landmark</a>, <a href=\"https://basicenglishspeaking.com/handcraft-items/\">Handcraft Items</a>, <a href=\"https://basicenglishspeaking.com/plastic-surgery/\">Plastic Surgery</a>, <a href=\"https://basicenglishspeaking.com/success/\">Success</a>]\n"
          ]
        }
      ]
    },
    {
      "cell_type": "code",
      "source": [
        "for link in links:\n",
        "    print(link.text)"
      ],
      "metadata": {
        "colab": {
          "base_uri": "https://localhost:8080/"
        },
        "id": "vWwvw0OeXjRT",
        "outputId": "36c46a48-e049-47d4-deba-1840205ff39c"
      },
      "execution_count": 105,
      "outputs": [
        {
          "output_type": "stream",
          "name": "stdout",
          "text": [
            "Family\n",
            "Restaurant\n",
            "Books\n",
            "Travel\n",
            "Website\n",
            "Accident\n",
            "Childhood memory\n",
            "Favorite rooms\n",
            "Presents\n",
            "Historical place\n",
            "Newspaper/ Magazine\n",
            "A memorable event\n",
            "A favorite subject\n",
            "A museum\n",
            "A favorite movie\n",
            "A foreign country\n",
            "Parties\n",
            "A teacher\n",
            "A friend\n",
            "A hotel\n",
            "A letter\n",
            "Hobbies\n",
            "Music\n",
            "Shopping\n",
            "Holiday\n",
            "Animals\n",
            "A practical skill\n",
            "Sport\n",
            "A School\n",
            "Festival\n",
            "Food\n",
            "Household appliance\n",
            "A music band\n",
            "Weather\n",
            "Neighbor\n",
            "Natural scenery\n",
            "Outdoor activities\n",
            "Law\n",
            "Pollution\n",
            "Traffic jam\n",
            "TV program\n",
            "Architect/ Building\n",
            "Electronic Media\n",
            "Job/ Career\n",
            "Competition/ contest\n",
            "A garden\n",
            "Hometown\n",
            "Clothing\n",
            "Advertisement\n",
            "A project\n",
            "A wedding\n",
            "A Coffee shop\n",
            "Culture\n",
            "Transport\n",
            "Politician\n",
            "Communication\n",
            "Business\n",
            "Computer\n",
            "Exercise\n",
            "Goal/ ambition\n",
            "Art\n",
            "Fashion\n",
            "Jewelry\n",
            "Cosmetic\n",
            "Indoor Game\n",
            "Phone conversation\n",
            "Learning A Second language\n",
            "A Creative Person\n",
            "A celebrity\n",
            "A Health Problem\n",
            "Technological advancements\n",
            "A Landmark\n",
            "Handcraft Items\n",
            "Plastic Surgery\n",
            "Success\n"
          ]
        }
      ]
    },
    {
      "cell_type": "code",
      "source": [
        "subject = []\n",
        "\n",
        "for link in links:\n",
        "    subject.append(link.text)"
      ],
      "metadata": {
        "id": "_Ddl7JDOX19A"
      },
      "execution_count": 106,
      "outputs": []
    },
    {
      "cell_type": "code",
      "source": [
        "len(subject)"
      ],
      "metadata": {
        "colab": {
          "base_uri": "https://localhost:8080/"
        },
        "id": "nExek53iYDwa",
        "outputId": "3d78837b-5387-4087-c279-48789629ed95"
      },
      "execution_count": 107,
      "outputs": [
        {
          "output_type": "execute_result",
          "data": {
            "text/plain": [
              "75"
            ]
          },
          "metadata": {},
          "execution_count": 107
        }
      ]
    },
    {
      "cell_type": "code",
      "source": [
        "print('총', len(subject), '개의 주제를 찾았습니다')\n",
        "for i in range(len(subject)):\n",
        "    print('{0:2d}. {1:s}'.format(i+1, subject[i]))"
      ],
      "metadata": {
        "colab": {
          "base_uri": "https://localhost:8080/"
        },
        "id": "6X04BA4TYHTU",
        "outputId": "ee5a3a30-56e3-4b47-d9c4-6b81b25f383f"
      },
      "execution_count": 108,
      "outputs": [
        {
          "output_type": "stream",
          "name": "stdout",
          "text": [
            "총 75 개의 주제를 찾았습니다\n",
            " 1. Family\n",
            " 2. Restaurant\n",
            " 3. Books\n",
            " 4. Travel\n",
            " 5. Website\n",
            " 6. Accident\n",
            " 7. Childhood memory\n",
            " 8. Favorite rooms\n",
            " 9. Presents\n",
            "10. Historical place\n",
            "11. Newspaper/ Magazine\n",
            "12. A memorable event\n",
            "13. A favorite subject\n",
            "14. A museum\n",
            "15. A favorite movie\n",
            "16. A foreign country\n",
            "17. Parties\n",
            "18. A teacher\n",
            "19. A friend\n",
            "20. A hotel\n",
            "21. A letter\n",
            "22. Hobbies\n",
            "23. Music\n",
            "24. Shopping\n",
            "25. Holiday\n",
            "26. Animals\n",
            "27. A practical skill\n",
            "28. Sport\n",
            "29. A School\n",
            "30. Festival\n",
            "31. Food\n",
            "32. Household appliance\n",
            "33. A music band\n",
            "34. Weather\n",
            "35. Neighbor\n",
            "36. Natural scenery\n",
            "37. Outdoor activities\n",
            "38. Law\n",
            "39. Pollution\n",
            "40. Traffic jam\n",
            "41. TV program\n",
            "42. Architect/ Building\n",
            "43. Electronic Media\n",
            "44. Job/ Career\n",
            "45. Competition/ contest\n",
            "46. A garden\n",
            "47. Hometown\n",
            "48. Clothing\n",
            "49. Advertisement\n",
            "50. A project\n",
            "51. A wedding\n",
            "52. A Coffee shop\n",
            "53. Culture\n",
            "54. Transport\n",
            "55. Politician\n",
            "56. Communication\n",
            "57. Business\n",
            "58. Computer\n",
            "59. Exercise\n",
            "60. Goal/ ambition\n",
            "61. Art\n",
            "62. Fashion\n",
            "63. Jewelry\n",
            "64. Cosmetic\n",
            "65. Indoor Game\n",
            "66. Phone conversation\n",
            "67. Learning A Second language\n",
            "68. A Creative Person\n",
            "69. A celebrity\n",
            "70. A Health Problem\n",
            "71. Technological advancements\n",
            "72. A Landmark\n",
            "73. Handcraft Items\n",
            "74. Plastic Surgery\n",
            "75. Success\n"
          ]
        }
      ]
    },
    {
      "cell_type": "markdown",
      "source": [
        "# 2. 다음 뉴스기사"
      ],
      "metadata": {
        "id": "wmCfyC2MYaIX"
      }
    },
    {
      "cell_type": "code",
      "source": [
        "# https://v.daum.net/v/20230601093610464\n",
        "# https://v.daum.net/v/20230601072518640\n",
        "\n",
        "def daum_news_title(news_id):\n",
        "    url = 'https://v.daum.net/v/{}'.format(news_id)\n",
        "    request = requests.get(url)\n",
        "    soup = BeautifulSoup(request.text)\n",
        "    title = soup.find('h3', {'class' : 'tit_view'})\n",
        "    if title:\n",
        "        return title.text.strip()\n",
        "    return '제목없음'\n",
        "\n",
        "daum_news_title(20230601093610464)"
      ],
      "metadata": {
        "colab": {
          "base_uri": "https://localhost:8080/",
          "height": 35
        },
        "id": "ohZJxCADaE-B",
        "outputId": "25c5fd9a-859d-4299-ecac-707224aaf084"
      },
      "execution_count": 109,
      "outputs": [
        {
          "output_type": "execute_result",
          "data": {
            "text/plain": [
              "'‘교사 출신’ 김재환, SK 코칭스태프 합류'"
            ],
            "application/vnd.google.colaboratory.intrinsic+json": {
              "type": "string"
            }
          },
          "metadata": {},
          "execution_count": 109
        }
      ]
    },
    {
      "cell_type": "code",
      "source": [
        "daum_news_title(20230601093610464)"
      ],
      "metadata": {
        "colab": {
          "base_uri": "https://localhost:8080/",
          "height": 35
        },
        "id": "QfP-1h5nbTHe",
        "outputId": "64b96b81-efc9-4f21-e0f2-87b639d6f1f1"
      },
      "execution_count": 110,
      "outputs": [
        {
          "output_type": "execute_result",
          "data": {
            "text/plain": [
              "'‘교사 출신’ 김재환, SK 코칭스태프 합류'"
            ],
            "application/vnd.google.colaboratory.intrinsic+json": {
              "type": "string"
            }
          },
          "metadata": {},
          "execution_count": 110
        }
      ]
    },
    {
      "cell_type": "code",
      "source": [
        "daum_news_title(20230601072518640)"
      ],
      "metadata": {
        "colab": {
          "base_uri": "https://localhost:8080/",
          "height": 35
        },
        "id": "2G71gogwbSqq",
        "outputId": "fb73c911-42ed-4a91-86c1-c6cef0984849"
      },
      "execution_count": 111,
      "outputs": [
        {
          "output_type": "execute_result",
          "data": {
            "text/plain": [
              "\"'범죄도시3' 개봉 첫날 74만 동원 1위..122만으로 시작 '압도적 흥행'\""
            ],
            "application/vnd.google.colaboratory.intrinsic+json": {
              "type": "string"
            }
          },
          "metadata": {},
          "execution_count": 111
        }
      ]
    },
    {
      "cell_type": "markdown",
      "source": [
        "# 3. 벅스 뮤직 사이트\n",
        "* https://music.bugs.co.kr/chart"
      ],
      "metadata": {
        "id": "nsbembMxbxej"
      }
    },
    {
      "cell_type": "code",
      "source": [
        "request = requests.get('https://music.bugs.co.kr/chart')\n",
        "soup = BeautifulSoup(request.text)"
      ],
      "metadata": {
        "id": "PrXqKP8qb0qI"
      },
      "execution_count": 112,
      "outputs": []
    },
    {
      "cell_type": "code",
      "source": [
        "titles = soup.findAll('p', {'class': \"title\"})\n",
        "# print(titles)\n",
        "artists = soup.findAll('p', {'class': \"artist\"})\n",
        "# print(artists)"
      ],
      "metadata": {
        "id": "KjK1pnavcHq8"
      },
      "execution_count": 113,
      "outputs": []
    },
    {
      "cell_type": "code",
      "source": [
        "for i in range(len(titles)):\n",
        "    title = titles[i].text.strip()\n",
        "    artist = artists[i].text.strip().split('\\n')[0]\n",
        "    print('{0:3d}위 {1} - {2}'.format(i+1, artist, title))"
      ],
      "metadata": {
        "colab": {
          "base_uri": "https://localhost:8080/"
        },
        "id": "-gzkx0Uxf2gP",
        "outputId": "ed0a1b5c-f714-450b-e514-80f132fce818"
      },
      "execution_count": 114,
      "outputs": [
        {
          "output_type": "stream",
          "name": "stdout",
          "text": [
            "  1위 (여자)아이들 - 퀸카 (Queencard)\n",
            "  2위 aespa - Spicy\n",
            "  3위 IVE (아이브) - I AM\n",
            "  4위 LE SSERAFIM (르세라핌) - UNFORGIVEN (feat. Nile Rodgers)\n",
            "  5위 IVE (아이브) - Kitsch\n",
            "  6위 FIFTY FIFTY - Cupid\n",
            "  7위 세븐틴(SEVENTEEN) - 손오공\n",
            "  8위 LE SSERAFIM (르세라핌) - 이브, 프시케 그리고 푸른 수염의 아내\n",
            "  9위 NewJeans - Hype Boy\n",
            " 10위 NewJeans - Ditto\n",
            " 11위 지수(JISOO) - 꽃\n",
            " 12위 aespa - Thirsty\n",
            " 13위 이채연 - KNOCK\n",
            " 14위 NewJeans - Attention\n",
            " 15위 NewJeans - OMG\n",
            " 16위 Charlie Puth(찰리 푸스) - Dangerously\n",
            " 17위 STAYC(스테이씨) - Teddy Bear\n",
            " 18위 IVE (아이브) - After LIKE\n",
            " 19위 Charlie Puth(찰리 푸스) - I Don’t Think That I Like Her\n",
            " 20위 IVE (아이브) - LOVE DIVE\n",
            " 21위 H1-KEY (하이키) - 건물 사이에 피어난 장미 (Rose Blossom)\n",
            " 22위 (여자)아이들 - Allergy\n",
            " 23위 LE SSERAFIM (르세라핌) - ANTIFRAGILE\n",
            " 24위 윤하(Younha/ユンナ) - 사건의 지평선\n",
            " 25위 DK(디셈버) - 심(心)\n",
            " 26위 던 (DAWN) - 빛이 나는 너에게\n",
            " 27위 박재정 - 헤어지자 말해요\n",
            " 28위 LE SSERAFIM (르세라핌) - FEARLESS\n",
            " 29위 멜로망스(MeloMance) - 사랑인가 봐\n",
            " 30위 허각 - 물론\n",
            " 31위 Christopher(크리스토퍼) - When I Get Old\n",
            " 32위 DAY6 (데이식스) - 한 페이지가 될 수 있게\n",
            " 33위 부석순(SEVENTEEN) - 파이팅 해야지 (Feat. 이영지)\n",
            " 34위 Charlie Puth(찰리 푸스) - That’s Not How This Works (feat. Dan + Shay)\n",
            " 35위 aespa - Salty & Sweet\n",
            " 36위 NMIXX - Love Me Like This\n",
            " 37위 BLACKPINK - Shut Down\n",
            " 38위 (여자)아이들 - TOMBOY\n",
            " 39위 IVE (아이브) - ELEVEN\n",
            " 40위 윤하(Younha/ユンナ) - 오르트구름\n",
            " 41위 지올팍(Zior Park) - CHRISTIAN\n",
            " 42위 임재현 - Heaven(2023)\n",
            " 43위 BLACKPINK - Pink Venom\n",
            " 44위 FIFTY FIFTY - Cupid (Twin Ver.)\n",
            " 45위 (여자)아이들 - Nxde\n",
            " 46위 NCT DREAM - Candy\n",
            " 47위 볼빨간사춘기 - FRIEND THE END\n",
            " 48위 The Kid LAROI - STAY\n",
            " 49위 박재범 - Candy (Feat. Zion.T)\n",
            " 50위 비투비 - 나의 바람 (Wind And Wish)\n",
            " 51위 성시경 - 너의 모든 순간\n",
            " 52위 멜로망스(MeloMance) - 찬란한 하루\n",
            " 53위 10CM - 그라데이션\n",
            " 54위 이무진 - 잠깐 시간 될까\n",
            " 55위 STAYC(스테이씨) - Poppy (Korean Ver.)\n",
            " 56위 경서예지 - 다정히 내 이름을 부르면\n",
            " 57위 BIG Naughty (서동현) - 정이라고 하자 (Feat. 10CM)\n",
            " 58위 임영웅 - 사랑은 늘 도망가\n",
            " 59위 Charlie Puth(찰리 푸스) - That's Hilarious\n",
            " 60위 aespa - 도깨비불 (Illusion)\n",
            " 61위 경서 - 나의 X에게\n",
            " 62위 폴킴(Paul Kim) - 모든 날, 모든 순간 (Every day, Every Moment)\n",
            " 63위 김민석 (멜로망스) - 취중고백\n",
            " 64위 #안녕 - 해요 (2022)\n",
            " 65위 잔나비 - 주저하는 연인들을 위해\n",
            " 66위 태연 (TAEYEON) - INVU\n",
            " 67위 폴킴(Paul Kim) - 한강에서 (Feat. BIG Naughty)\n",
            " 68위 NewJeans - Cookie\n",
            " 69위 Justin Bieber(저스틴 비버) - Off My Face\n",
            " 70위 테이(Tei) - Monologue\n",
            " 71위 태양 - VIBE (feat. Jimin of BTS)\n",
            " 72위 Sam Smith(샘 스미스) - Unholy\n",
            " 73위 NCT 도재정 - Perfume\n",
            " 74위 WSG워너비 (가야G) - 그때 그 순간 그대로 (그그그)\n",
            " 75위 Red Velvet (레드벨벳) - Feel My Rhythm\n",
            " 76위 10CM - 부동의 첫사랑\n",
            " 77위 아이유(IU) - 드라마\n",
            " 78위 방탄소년단 - Dynamite\n",
            " 79위 지아(Zia) - 사랑..그게 뭔데\n",
            " 80위 주호 - 내가 아니라도\n",
            " 81위 우디(Woody) - Say I Love You\n",
            " 82위 BIGBANG (빅뱅) - 봄여름가을겨울 (Still Life)\n",
            " 83위 BE'O (비오) - LOVE me\n",
            " 84위 아이유(IU) - strawberry moon\n",
            " 85위 지코 (ZICO) - 새삥 (Prod. ZICO) (Feat. 호미들)\n",
            " 86위 aespa - I'm Unhappy\n",
            " 87위 Crush - Rush Hour (Feat. j-hope of BTS)\n",
            " 88위 10CM - 딱 10CM만\n",
            " 89위 카라(Kara) - WHEN I MOVE\n",
            " 90위 이영지 - NOT SORRY (Feat. pH-1) (Prod. by Slom)\n",
            " 91위 우디(Woody) - Nostalgia\n",
            " 92위 태양 - 나의 마음에 (Seed)\n",
            " 93위 볼빨간사춘기 - Love story\n",
            " 94위 CIX (씨아이엑스) - Save me, Kill me\n",
            " 95위 Charlie Puth(찰리 푸스) - Left and Right (Feat. Jung Kook of BTS)\n",
            " 96위 aespa - Welcome To MY World (Feat. nævis)\n",
            " 97위 CIX (씨아이엑스) - Color\n",
            " 98위 주주 시크릿 - 밤이 무서워요 (Lonely Night)\n",
            " 99위 BE'O (비오) - 자격지심 (Feat. ZICO)\n",
            "100위 CIX (씨아이엑스) - Curtain Call\n"
          ]
        }
      ]
    },
    {
      "cell_type": "code",
      "source": [
        "# zip : iter 객체 길이가 짧은거 중심으로\n",
        "for i, (t, a) in enumerate(zip(titles, artists)):\n",
        "    title = t.text.strip()\n",
        "    artist = a.text.strip().split('\\n')[0]\n",
        "    print('{0:3d}위 {1} - {2}'.format(i+1, artist, title))"
      ],
      "metadata": {
        "colab": {
          "base_uri": "https://localhost:8080/"
        },
        "id": "Yss5t14Lg1TF",
        "outputId": "ca58fd9e-fb08-42a7-fbb7-c7245b064c9d"
      },
      "execution_count": 115,
      "outputs": [
        {
          "output_type": "stream",
          "name": "stdout",
          "text": [
            "  1위 (여자)아이들 - 퀸카 (Queencard)\n",
            "  2위 aespa - Spicy\n",
            "  3위 IVE (아이브) - I AM\n",
            "  4위 LE SSERAFIM (르세라핌) - UNFORGIVEN (feat. Nile Rodgers)\n",
            "  5위 IVE (아이브) - Kitsch\n",
            "  6위 FIFTY FIFTY - Cupid\n",
            "  7위 세븐틴(SEVENTEEN) - 손오공\n",
            "  8위 LE SSERAFIM (르세라핌) - 이브, 프시케 그리고 푸른 수염의 아내\n",
            "  9위 NewJeans - Hype Boy\n",
            " 10위 NewJeans - Ditto\n",
            " 11위 지수(JISOO) - 꽃\n",
            " 12위 aespa - Thirsty\n",
            " 13위 이채연 - KNOCK\n",
            " 14위 NewJeans - Attention\n",
            " 15위 NewJeans - OMG\n",
            " 16위 Charlie Puth(찰리 푸스) - Dangerously\n",
            " 17위 STAYC(스테이씨) - Teddy Bear\n",
            " 18위 IVE (아이브) - After LIKE\n",
            " 19위 Charlie Puth(찰리 푸스) - I Don’t Think That I Like Her\n",
            " 20위 IVE (아이브) - LOVE DIVE\n",
            " 21위 H1-KEY (하이키) - 건물 사이에 피어난 장미 (Rose Blossom)\n",
            " 22위 (여자)아이들 - Allergy\n",
            " 23위 LE SSERAFIM (르세라핌) - ANTIFRAGILE\n",
            " 24위 윤하(Younha/ユンナ) - 사건의 지평선\n",
            " 25위 DK(디셈버) - 심(心)\n",
            " 26위 던 (DAWN) - 빛이 나는 너에게\n",
            " 27위 박재정 - 헤어지자 말해요\n",
            " 28위 LE SSERAFIM (르세라핌) - FEARLESS\n",
            " 29위 멜로망스(MeloMance) - 사랑인가 봐\n",
            " 30위 허각 - 물론\n",
            " 31위 Christopher(크리스토퍼) - When I Get Old\n",
            " 32위 DAY6 (데이식스) - 한 페이지가 될 수 있게\n",
            " 33위 부석순(SEVENTEEN) - 파이팅 해야지 (Feat. 이영지)\n",
            " 34위 Charlie Puth(찰리 푸스) - That’s Not How This Works (feat. Dan + Shay)\n",
            " 35위 aespa - Salty & Sweet\n",
            " 36위 NMIXX - Love Me Like This\n",
            " 37위 BLACKPINK - Shut Down\n",
            " 38위 (여자)아이들 - TOMBOY\n",
            " 39위 IVE (아이브) - ELEVEN\n",
            " 40위 윤하(Younha/ユンナ) - 오르트구름\n",
            " 41위 지올팍(Zior Park) - CHRISTIAN\n",
            " 42위 임재현 - Heaven(2023)\n",
            " 43위 BLACKPINK - Pink Venom\n",
            " 44위 FIFTY FIFTY - Cupid (Twin Ver.)\n",
            " 45위 (여자)아이들 - Nxde\n",
            " 46위 NCT DREAM - Candy\n",
            " 47위 볼빨간사춘기 - FRIEND THE END\n",
            " 48위 The Kid LAROI - STAY\n",
            " 49위 박재범 - Candy (Feat. Zion.T)\n",
            " 50위 비투비 - 나의 바람 (Wind And Wish)\n",
            " 51위 성시경 - 너의 모든 순간\n",
            " 52위 멜로망스(MeloMance) - 찬란한 하루\n",
            " 53위 10CM - 그라데이션\n",
            " 54위 이무진 - 잠깐 시간 될까\n",
            " 55위 STAYC(스테이씨) - Poppy (Korean Ver.)\n",
            " 56위 경서예지 - 다정히 내 이름을 부르면\n",
            " 57위 BIG Naughty (서동현) - 정이라고 하자 (Feat. 10CM)\n",
            " 58위 임영웅 - 사랑은 늘 도망가\n",
            " 59위 Charlie Puth(찰리 푸스) - That's Hilarious\n",
            " 60위 aespa - 도깨비불 (Illusion)\n",
            " 61위 경서 - 나의 X에게\n",
            " 62위 폴킴(Paul Kim) - 모든 날, 모든 순간 (Every day, Every Moment)\n",
            " 63위 김민석 (멜로망스) - 취중고백\n",
            " 64위 #안녕 - 해요 (2022)\n",
            " 65위 잔나비 - 주저하는 연인들을 위해\n",
            " 66위 태연 (TAEYEON) - INVU\n",
            " 67위 폴킴(Paul Kim) - 한강에서 (Feat. BIG Naughty)\n",
            " 68위 NewJeans - Cookie\n",
            " 69위 Justin Bieber(저스틴 비버) - Off My Face\n",
            " 70위 테이(Tei) - Monologue\n",
            " 71위 태양 - VIBE (feat. Jimin of BTS)\n",
            " 72위 Sam Smith(샘 스미스) - Unholy\n",
            " 73위 NCT 도재정 - Perfume\n",
            " 74위 WSG워너비 (가야G) - 그때 그 순간 그대로 (그그그)\n",
            " 75위 Red Velvet (레드벨벳) - Feel My Rhythm\n",
            " 76위 10CM - 부동의 첫사랑\n",
            " 77위 아이유(IU) - 드라마\n",
            " 78위 방탄소년단 - Dynamite\n",
            " 79위 지아(Zia) - 사랑..그게 뭔데\n",
            " 80위 주호 - 내가 아니라도\n",
            " 81위 우디(Woody) - Say I Love You\n",
            " 82위 BIGBANG (빅뱅) - 봄여름가을겨울 (Still Life)\n",
            " 83위 BE'O (비오) - LOVE me\n",
            " 84위 아이유(IU) - strawberry moon\n",
            " 85위 지코 (ZICO) - 새삥 (Prod. ZICO) (Feat. 호미들)\n",
            " 86위 aespa - I'm Unhappy\n",
            " 87위 Crush - Rush Hour (Feat. j-hope of BTS)\n",
            " 88위 10CM - 딱 10CM만\n",
            " 89위 카라(Kara) - WHEN I MOVE\n",
            " 90위 이영지 - NOT SORRY (Feat. pH-1) (Prod. by Slom)\n",
            " 91위 우디(Woody) - Nostalgia\n",
            " 92위 태양 - 나의 마음에 (Seed)\n",
            " 93위 볼빨간사춘기 - Love story\n",
            " 94위 CIX (씨아이엑스) - Save me, Kill me\n",
            " 95위 Charlie Puth(찰리 푸스) - Left and Right (Feat. Jung Kook of BTS)\n",
            " 96위 aespa - Welcome To MY World (Feat. nævis)\n",
            " 97위 CIX (씨아이엑스) - Color\n",
            " 98위 주주 시크릿 - 밤이 무서워요 (Lonely Night)\n",
            " 99위 BE'O (비오) - 자격지심 (Feat. ZICO)\n",
            "100위 CIX (씨아이엑스) - Curtain Call\n"
          ]
        }
      ]
    },
    {
      "cell_type": "markdown",
      "source": [
        "# 4. 멜론 차트\n",
        "* https://www.melon.com/chart/index.htm\n",
        "* robots.txt: 웹 사이트에 크롤러같은 로봇들의 접근을 제어하기 위한 규약. 권고안이라 꼭 지킬 의무는 없음"
      ],
      "metadata": {
        "id": "P4EEDW0okhDt"
      }
    },
    {
      "cell_type": "code",
      "source": [
        "request = requests.get('https://www.melon.com/chart/index.htm')\n",
        "# header가 비어져서 감\n",
        "print(request) # <Response [406]>"
      ],
      "metadata": {
        "colab": {
          "base_uri": "https://localhost:8080/"
        },
        "id": "pB1HG6MEl5Ua",
        "outputId": "41bfedf8-dbf4-4e8b-a6e8-57298ce5d44d"
      },
      "execution_count": 116,
      "outputs": [
        {
          "output_type": "stream",
          "name": "stdout",
          "text": [
            "<Response [406]>\n"
          ]
        }
      ]
    },
    {
      "cell_type": "code",
      "source": [
        "# User-Agent:\n",
        "# Mozilla/5.0 (Windows NT 10.0; Win64; x64) AppleWebKit/537.36 (KHTML, like Gecko) Chrome/113.0.0.0 Safari/537.36\n",
        "header = {'User-Agent': 'Mozilla/5.0 (Windows NT 10.0; Win64; x64)'}\n",
        "request = requests.get('https://www.melon.com/chart/index.htm', headers=header)\n",
        "print(request) # <Response [200]>"
      ],
      "metadata": {
        "colab": {
          "base_uri": "https://localhost:8080/"
        },
        "id": "m4GZwH1WniIv",
        "outputId": "0b151050-0159-42f4-f191-59fad59a84ab"
      },
      "execution_count": 117,
      "outputs": [
        {
          "output_type": "stream",
          "name": "stdout",
          "text": [
            "<Response [200]>\n"
          ]
        }
      ]
    },
    {
      "cell_type": "code",
      "source": [
        "soup = BeautifulSoup(request.text)"
      ],
      "metadata": {
        "id": "0qtAcqu9oBRO"
      },
      "execution_count": 118,
      "outputs": []
    },
    {
      "cell_type": "code",
      "source": [
        "titles = soup.findAll('div', {'class': \"rank01\"})\n",
        "# print(titles)\n",
        "artists = soup.findAll('span', {'class': \"checkEllipsis\"})"
      ],
      "metadata": {
        "id": "XZQ73LBdoCRe"
      },
      "execution_count": 119,
      "outputs": []
    },
    {
      "cell_type": "code",
      "source": [
        "# zip : iter 객체 길이가 짧은거 중심으로\n",
        "for i, (t, a) in enumerate(zip(titles, artists)):\n",
        "    title = t.text.strip()\n",
        "    artist = a.text.strip()\n",
        "    print('{0:3d}위 {1} - {2}'.format(i+1, title, artist))"
      ],
      "metadata": {
        "colab": {
          "base_uri": "https://localhost:8080/"
        },
        "id": "tggm_Jz1nzam",
        "outputId": "71f78247-7052-455e-eb31-e98ba2ea1f1d"
      },
      "execution_count": 120,
      "outputs": [
        {
          "output_type": "stream",
          "name": "stdout",
          "text": [
            "  1위 퀸카 (Queencard) - (여자)아이들\n",
            "  2위 Spicy - aespa\n",
            "  3위 I AM - IVE (아이브)\n",
            "  4위 UNFORGIVEN (feat. Nile Rodgers) - LE SSERAFIM (르세라핌)\n",
            "  5위 Kitsch - IVE (아이브)\n",
            "  6위 손오공 - 세븐틴 (SEVENTEEN)\n",
            "  7위 꽃 - 지수 (JISOO)\n",
            "  8위 사랑은 늘 도망가 - 임영웅\n",
            "  9위 Hype boy - NewJeans\n",
            " 10위 Ditto - NewJeans\n",
            " 11위 우리들의 블루스 - 임영웅\n",
            " 12위 Cupid - FIFTY FIFTY\n",
            " 13위 물론 - 허각\n",
            " 14위 Allergy - (여자)아이들\n",
            " 15위 다시 만날 수 있을까 - 임영웅\n",
            " 16위 London Boy - 임영웅\n",
            " 17위 파이팅 해야지 (Feat. 이영지) - 부석순 (SEVENTEEN)\n",
            " 18위 헤어지자 말해요 - 박재정\n",
            " 19위 사랑..그게 뭔데 - 지아\n",
            " 20위 Polaroid - 임영웅\n",
            " 21위 OMG - NewJeans\n",
            " 22위 무지개 - 임영웅\n",
            " 23위 이제 나만 믿어요 - 임영웅\n",
            " 24위 사건의 지평선 - 윤하 (YOUNHA)\n",
            " 25위 아버지 - 임영웅\n",
            " 26위 Teddy Bear - STAYC(스테이씨)\n",
            " 27위 이브, 프시케 그리고 푸른 수염의 아내 - LE SSERAFIM (르세라핌)\n",
            " 28위 Dangerously - Charlie Puth\n",
            " 29위 심(心) - DK(디셈버)\n",
            " 30위 I Don't Think That I Like Her - Charlie Puth\n",
            " 31위 A bientot - 임영웅\n",
            " 32위 잠깐 시간 될까 - 이무진\n",
            " 33위 Thirsty - aespa\n",
            " 34위 인생찬가 - 임영웅\n",
            " 35위 손이 참 곱던 그대 - 임영웅\n",
            " 36위 After LIKE - IVE (아이브)\n",
            " 37위 사랑해 진짜 - 임영웅\n",
            " 38위 연애편지 - 임영웅\n",
            " 39위 Heaven(2023) - 임재현\n",
            " 40위 LOVE DIVE - IVE (아이브)\n",
            " 41위 Attention - NewJeans\n",
            " 42위 ANTIFRAGILE - LE SSERAFIM (르세라핌)\n",
            " 43위 보금자리 - 임영웅\n",
            " 44위 NIGHT DANCER - imase\n",
            " 45위 나의 바람 (Wind And Wish) - 비투비\n",
            " 46위 사람 Pt.2 (feat. 아이유) - Agust D\n",
            " 47위 빛이 나는 너에게 - 던 (DAWN)\n",
            " 48위 Like Crazy - 지민\n",
            " 49위 부동의 첫사랑 - 10CM\n",
            " 50위 Dynamite - 방탄소년단\n",
            " 51위 안녕이라고 말하지마 - V.O.S\n",
            " 52위 사랑인가 봐 - 멜로망스\n",
            " 53위 CHRISTIAN - Zior Park\n",
            " 54위 FRIEND THE END - 볼빨간사춘기\n",
            " 55위 The Planet - 방탄소년단\n",
            " 56위 KNOCK - 이채연\n",
            " 57위 봄날 - 방탄소년단\n",
            " 58위 너의 모든 순간 - 성시경\n",
            " 59위 Salty & Sweet - aespa\n",
            " 60위 Love Me Like This - NMIXX\n",
            " 61위 찬란한 하루 - 멜로망스\n",
            " 62위 Butter - 방탄소년단\n",
            " 63위 사랑하기 싫어 - 지아\n",
            " 64위 Nxde - (여자)아이들\n",
            " 65위 건물 사이에 피어난 장미 (Rose Blossom) - H1-KEY (하이키)\n",
            " 66위 Angel Pt. 1 (Feat. Kodak Black, NLE Choppa, JVKE, Muni Long) - 지민\n",
            " 67위 사랑하지 않아서 그랬어 - 임한별\n",
            " 68위 TOMBOY - (여자)아이들\n",
            " 69위 한사람만 (2023) (여름날 우리 X 이홍기 (FT아일랜드)) - 이홍기 (FT아일랜드)\n",
            " 70위 Permission to Dance - 방탄소년단\n",
            " 71위 That's Hilarious - Charlie Puth\n",
            " 72위 해요 (2022) - #안녕\n",
            " 73위 한강에서 (Feat. BIG Naughty) - 폴킴\n",
            " 74위 Monologue - 테이\n",
            " 75위 Candy - NCT DREAM\n",
            " 76위 그라데이션 - 10CM\n",
            " 77위 취중고백 - 김민석 (멜로망스)\n",
            " 78위 STAY - The Kid LAROI, Justin Bieber\n",
            " 79위 F*ck My Life - 세븐틴 (SEVENTEEN)\n",
            " 80위 우리 사랑 이대로 (여름날 우리 X 규현 (KYUHYUN), 정은지) - 규현 (KYUHYUN), 정은지\n",
            " 81위 on the street (with J. Cole) - j-hope, J. Cole\n",
            " 82위 그중에 그대를 만나 - 김호중\n",
            " 83위 Dreamers [Music from the FIFA World Cup Qatar 2022 Official Soundtrack] (Feat. FIFA Sound) - 정국, 방탄소년단\n",
            " 84위 FEARLESS - LE SSERAFIM (르세라핌)\n",
            " 85위 Shut Down - BLACKPINK\n",
            " 86위 Say I Love You - 우디 (Woody)\n",
            " 87위 정이라고 하자 (Feat. 10CM) - BIG Naughty (서동현)\n",
            " 88위 ELEVEN - IVE (아이브)\n",
            " 89위 Nostalgia - 우디 (Woody)\n",
            " 90위 다정히 내 이름을 부르면 - 경서예지, 전건호\n",
            " 91위 내가 아니라도 - 주호\n",
            " 92위 발걸음 - DK(디셈버)\n",
            " 93위 Pink Venom - BLACKPINK\n",
            " 94위 That’s Not How This Works (feat. Dan + Shay) - Charlie Puth\n",
            " 95위 새삥 (Prod. ZICO) (Feat. 호미들) - 지코 (ZICO)\n",
            " 96위 VIBE (feat. Jimin of BTS) - 태양\n",
            " 97위 첫 키스에 내 심장은 120BPM - 경서\n",
            " 98위 그때 그 순간 그대로 (그그그) - WSG워너비 (가야G)\n",
            " 99위 오르트구름 - 윤하 (YOUNHA)\n",
            "100위 당신을 만나 - 김호중, 송가인\n"
          ]
        }
      ]
    },
    {
      "cell_type": "markdown",
      "source": [
        "# 5. 네이버 주식\n",
        "* https://finance.naver.com/"
      ],
      "metadata": {
        "id": "vfT3UBNPpZYn"
      }
    },
    {
      "cell_type": "code",
      "source": [
        "# https://finance.naver.com/item/main.naver?code=005930\n",
        "site = 'https://finance.naver.com/item/main.naver?code=005930'\n",
        "request = requests.get(site)\n",
        "print(request)"
      ],
      "metadata": {
        "colab": {
          "base_uri": "https://localhost:8080/"
        },
        "id": "l2km1R_euhR8",
        "outputId": "7a89c131-b756-47d1-9398-9b101448c494"
      },
      "execution_count": 121,
      "outputs": [
        {
          "output_type": "stream",
          "name": "stdout",
          "text": [
            "<Response [200]>\n"
          ]
        }
      ]
    },
    {
      "cell_type": "code",
      "source": [
        "soup = BeautifulSoup(request.text)"
      ],
      "metadata": {
        "id": "Xvto6GmVuuCw"
      },
      "execution_count": 122,
      "outputs": []
    },
    {
      "cell_type": "code",
      "source": [
        "div_today = soup.find('div', {'class' : \"today\"})\n",
        "print(div_today)"
      ],
      "metadata": {
        "colab": {
          "base_uri": "https://localhost:8080/"
        },
        "id": "W0ss48Fcu_Un",
        "outputId": "8e9b4457-2272-4f4a-fca0-70dbe23e8c56"
      },
      "execution_count": 123,
      "outputs": [
        {
          "output_type": "stream",
          "name": "stdout",
          "text": [
            "<div class=\"today\">\n",
            "<p class=\"no_today\">\n",
            "<em class=\"no_down\">\n",
            "<span class=\"blind\">71,000</span>\n",
            "<span class=\"no7\">7</span><span class=\"no1\">1</span><span class=\"shim\">,</span><span class=\"no0\">0</span><span class=\"no0\">0</span><span class=\"no0\">0</span>\n",
            "</em>\n",
            "</p>\n",
            "<p class=\"no_exday\">\n",
            "<span class=\"sptxt sp_txt1\">전일대비</span>\n",
            "<em class=\"no_down\">\n",
            "<span class=\"ico down\">하락</span>\n",
            "<span class=\"blind\">400</span>\n",
            "<span class=\"no4\">4</span><span class=\"no0\">0</span><span class=\"no0\">0</span>\n",
            "</em>\n",
            "<span class=\"bar\">l</span>\n",
            "<em class=\"no_down\">\n",
            "<span class=\"ico minus\">-</span>\n",
            "<span class=\"blind\">0.56</span>\n",
            "<span class=\"no0\">0</span><span class=\"jum\">.</span><span class=\"no5\">5</span><span class=\"no6\">6</span>\n",
            "<span class=\"per\">%</span>\n",
            "</em>\n",
            "</p>\n",
            "</div>\n"
          ]
        }
      ]
    },
    {
      "cell_type": "code",
      "source": [
        "em = div_today.find('em')\n",
        "em"
      ],
      "metadata": {
        "colab": {
          "base_uri": "https://localhost:8080/"
        },
        "id": "IrhcZBbhvbKQ",
        "outputId": "1f3f97ad-d625-4a2f-f557-bb31c396d077"
      },
      "execution_count": 124,
      "outputs": [
        {
          "output_type": "execute_result",
          "data": {
            "text/plain": [
              "<em class=\"no_down\">\n",
              "<span class=\"blind\">71,000</span>\n",
              "<span class=\"no7\">7</span><span class=\"no1\">1</span><span class=\"shim\">,</span><span class=\"no0\">0</span><span class=\"no0\">0</span><span class=\"no0\">0</span>\n",
              "</em>"
            ]
          },
          "metadata": {},
          "execution_count": 124
        }
      ]
    },
    {
      "cell_type": "code",
      "source": [
        "price = em.find('span',{'class':'blind'}).text\n",
        "price"
      ],
      "metadata": {
        "colab": {
          "base_uri": "https://localhost:8080/",
          "height": 35
        },
        "id": "KfADDfGtvkMi",
        "outputId": "4309e736-2413-4ed2-a2d4-ec9d0b451217"
      },
      "execution_count": 125,
      "outputs": [
        {
          "output_type": "execute_result",
          "data": {
            "text/plain": [
              "'71,000'"
            ],
            "application/vnd.google.colaboratory.intrinsic+json": {
              "type": "string"
            }
          },
          "metadata": {},
          "execution_count": 125
        }
      ]
    },
    {
      "cell_type": "code",
      "source": [
        "wrap_company = soup.find('div', {'class' : 'wrap_company'})"
      ],
      "metadata": {
        "id": "_6QDK4xfvws5"
      },
      "execution_count": 126,
      "outputs": []
    },
    {
      "cell_type": "code",
      "source": [
        "company = wrap_company.a.text\n",
        "company"
      ],
      "metadata": {
        "colab": {
          "base_uri": "https://localhost:8080/",
          "height": 35
        },
        "id": "u3yB5h-TwLk7",
        "outputId": "645a0602-26f5-40c0-9413-1e743e10a50b"
      },
      "execution_count": 127,
      "outputs": [
        {
          "output_type": "execute_result",
          "data": {
            "text/plain": [
              "'삼성전자'"
            ],
            "application/vnd.google.colaboratory.intrinsic+json": {
              "type": "string"
            }
          },
          "metadata": {},
          "execution_count": 127
        }
      ]
    },
    {
      "cell_type": "code",
      "source": [
        "code = wrap_company.find('span',{'class' : 'code'}).text\n",
        "code"
      ],
      "metadata": {
        "colab": {
          "base_uri": "https://localhost:8080/",
          "height": 35
        },
        "id": "Q_-esCwiwcjx",
        "outputId": "e9f3b04e-3575-4b35-b8c6-338f7cfb6e69"
      },
      "execution_count": 128,
      "outputs": [
        {
          "output_type": "execute_result",
          "data": {
            "text/plain": [
              "'005930'"
            ],
            "application/vnd.google.colaboratory.intrinsic+json": {
              "type": "string"
            }
          },
          "metadata": {},
          "execution_count": 128
        }
      ]
    },
    {
      "cell_type": "code",
      "source": [
        "div_description = wrap_company.find('div', {'class' : 'description'})"
      ],
      "metadata": {
        "id": "hWI5EAVQyZw-"
      },
      "execution_count": 129,
      "outputs": []
    },
    {
      "cell_type": "code",
      "source": [
        "table_no_info = soup.find('table', {'class': 'no_info'})\n",
        "tds = table_no_info.find_all('td')"
      ],
      "metadata": {
        "id": "CbAl8ZXWyi2h"
      },
      "execution_count": 130,
      "outputs": []
    },
    {
      "cell_type": "code",
      "source": [
        "volume = tds[2].find('span', {'class' : 'blind'}).text\n",
        "print(volume)"
      ],
      "metadata": {
        "colab": {
          "base_uri": "https://localhost:8080/"
        },
        "id": "OaOPmIw30ZPu",
        "outputId": "c8bbce59-fc8e-4928-87a8-8f2618c8878f"
      },
      "execution_count": 131,
      "outputs": [
        {
          "output_type": "stream",
          "name": "stdout",
          "text": [
            "9,693,022\n"
          ]
        }
      ]
    },
    {
      "cell_type": "code",
      "source": [
        "dic = {'price':price, 'name':company, 'code':code, 'volume' : volume}\n",
        "dic"
      ],
      "metadata": {
        "colab": {
          "base_uri": "https://localhost:8080/"
        },
        "id": "RF0bzvg60kQn",
        "outputId": "e8b41311-c76c-40ad-91a0-39e67d93dca0"
      },
      "execution_count": 133,
      "outputs": [
        {
          "output_type": "execute_result",
          "data": {
            "text/plain": [
              "{'price': '71,000', 'name': '삼성전자', 'code': '005930', 'volume': '9,693,022'}"
            ]
          },
          "metadata": {},
          "execution_count": 133
        }
      ]
    },
    {
      "cell_type": "code",
      "source": [
        "def naver_finance(code):\n",
        "    site = f'https://finance.naver.com/item/main.naver?code={code}'\n",
        "    request = requests.get(site)\n",
        "    soup = BeautifulSoup(request.text)\n",
        "    div_today = soup.find('div', {'class':'today'})\n",
        "    em = div_today.find('em')\n",
        "    price = em.find('span', {'class':'blind'}).text # 가격\n",
        "    wrap_company = soup.find('div', {'class':'wrap_company'})\n",
        "    name = wrap_company.a.text  # 회사명\n",
        "    div_description = wrap_company.find('div', {'class':'description'})\n",
        "    code = div_description.span.text # 코드\n",
        "    table_no_info = soup.find('table', {'class':'no_info'})\n",
        "    tds = table_no_info.find_all('td')\n",
        "    volume = tds[2].find('span', {'class':'blind'}).text # 거래량\n",
        "    dic = {'price':price, 'name':name, 'code':code, 'volume':volume}\n",
        "    return dic"
      ],
      "metadata": {
        "id": "6GdGaWW9Jk3i"
      },
      "execution_count": 134,
      "outputs": []
    },
    {
      "cell_type": "code",
      "source": [
        "naver_finance(\"000660\")"
      ],
      "metadata": {
        "colab": {
          "base_uri": "https://localhost:8080/"
        },
        "id": "LyUO8W_AKRgW",
        "outputId": "e8146abb-a311-466e-f3c0-82c86dd7afdb"
      },
      "execution_count": 137,
      "outputs": [
        {
          "output_type": "execute_result",
          "data": {
            "text/plain": [
              "{'price': '109,500', 'name': 'SK하이닉스', 'code': '000660', 'volume': '9,693,022'}"
            ]
          },
          "metadata": {},
          "execution_count": 137
        }
      ]
    },
    {
      "cell_type": "code",
      "source": [
        "codes = [\"000660\", \"005930\", \"373220\", \"035720\", \"035420\", \"293490\"]"
      ],
      "metadata": {
        "id": "8S10GpW8KpLH"
      },
      "execution_count": 138,
      "outputs": []
    },
    {
      "cell_type": "code",
      "source": [
        "data = []\n",
        "\n",
        "for code in codes:\n",
        "    data.append(naver_finance(code))\n",
        "\n",
        "print(data)"
      ],
      "metadata": {
        "colab": {
          "base_uri": "https://localhost:8080/"
        },
        "id": "74Fz_wneLApz",
        "outputId": "bdd43b6f-02b5-4147-b7c0-cddd8cb71dc0"
      },
      "execution_count": 140,
      "outputs": [
        {
          "output_type": "stream",
          "name": "stdout",
          "text": [
            "[{'price': '109,400', 'name': 'SK하이닉스', 'code': '000660', 'volume': '9,693,022'}, {'price': '71,000', 'name': '삼성전자', 'code': '005930', 'volume': '9,693,022'}, {'price': '587,000', 'name': 'LG에너지솔루션', 'code': '373220', 'volume': '9,693,022'}, {'price': '56,200', 'name': '카카오', 'code': '035720', 'volume': '9,693,022'}, {'price': '203,000', 'name': 'NAVER', 'code': '035420', 'volume': '9,693,022'}, {'price': '39,100', 'name': '카카오게임즈', 'code': '293490', 'volume': '9,693,022'}]\n"
          ]
        }
      ]
    },
    {
      "cell_type": "code",
      "source": [
        "import pandas as pd"
      ],
      "metadata": {
        "id": "wGi043SNLMZD"
      },
      "execution_count": 141,
      "outputs": []
    },
    {
      "cell_type": "code",
      "source": [
        "df = pd.DataFrame(data)"
      ],
      "metadata": {
        "id": "6xtYn8tzLORd"
      },
      "execution_count": 142,
      "outputs": []
    },
    {
      "cell_type": "code",
      "source": [
        "df"
      ],
      "metadata": {
        "colab": {
          "base_uri": "https://localhost:8080/",
          "height": 238
        },
        "id": "m_l9SKE4LRxc",
        "outputId": "8229c280-a12f-475e-ec7a-023425a27875"
      },
      "execution_count": 143,
      "outputs": [
        {
          "output_type": "execute_result",
          "data": {
            "text/plain": [
              "     price      name    code     volume\n",
              "0  109,400    SK하이닉스  000660  9,693,022\n",
              "1   71,000      삼성전자  005930  9,693,022\n",
              "2  587,000  LG에너지솔루션  373220  9,693,022\n",
              "3   56,200       카카오  035720  9,693,022\n",
              "4  203,000     NAVER  035420  9,693,022\n",
              "5   39,100    카카오게임즈  293490  9,693,022"
            ],
            "text/html": [
              "\n",
              "  <div id=\"df-0b9e4131-49e6-496f-915a-574e49b9ee08\">\n",
              "    <div class=\"colab-df-container\">\n",
              "      <div>\n",
              "<style scoped>\n",
              "    .dataframe tbody tr th:only-of-type {\n",
              "        vertical-align: middle;\n",
              "    }\n",
              "\n",
              "    .dataframe tbody tr th {\n",
              "        vertical-align: top;\n",
              "    }\n",
              "\n",
              "    .dataframe thead th {\n",
              "        text-align: right;\n",
              "    }\n",
              "</style>\n",
              "<table border=\"1\" class=\"dataframe\">\n",
              "  <thead>\n",
              "    <tr style=\"text-align: right;\">\n",
              "      <th></th>\n",
              "      <th>price</th>\n",
              "      <th>name</th>\n",
              "      <th>code</th>\n",
              "      <th>volume</th>\n",
              "    </tr>\n",
              "  </thead>\n",
              "  <tbody>\n",
              "    <tr>\n",
              "      <th>0</th>\n",
              "      <td>109,400</td>\n",
              "      <td>SK하이닉스</td>\n",
              "      <td>000660</td>\n",
              "      <td>9,693,022</td>\n",
              "    </tr>\n",
              "    <tr>\n",
              "      <th>1</th>\n",
              "      <td>71,000</td>\n",
              "      <td>삼성전자</td>\n",
              "      <td>005930</td>\n",
              "      <td>9,693,022</td>\n",
              "    </tr>\n",
              "    <tr>\n",
              "      <th>2</th>\n",
              "      <td>587,000</td>\n",
              "      <td>LG에너지솔루션</td>\n",
              "      <td>373220</td>\n",
              "      <td>9,693,022</td>\n",
              "    </tr>\n",
              "    <tr>\n",
              "      <th>3</th>\n",
              "      <td>56,200</td>\n",
              "      <td>카카오</td>\n",
              "      <td>035720</td>\n",
              "      <td>9,693,022</td>\n",
              "    </tr>\n",
              "    <tr>\n",
              "      <th>4</th>\n",
              "      <td>203,000</td>\n",
              "      <td>NAVER</td>\n",
              "      <td>035420</td>\n",
              "      <td>9,693,022</td>\n",
              "    </tr>\n",
              "    <tr>\n",
              "      <th>5</th>\n",
              "      <td>39,100</td>\n",
              "      <td>카카오게임즈</td>\n",
              "      <td>293490</td>\n",
              "      <td>9,693,022</td>\n",
              "    </tr>\n",
              "  </tbody>\n",
              "</table>\n",
              "</div>\n",
              "      <button class=\"colab-df-convert\" onclick=\"convertToInteractive('df-0b9e4131-49e6-496f-915a-574e49b9ee08')\"\n",
              "              title=\"Convert this dataframe to an interactive table.\"\n",
              "              style=\"display:none;\">\n",
              "        \n",
              "  <svg xmlns=\"http://www.w3.org/2000/svg\" height=\"24px\"viewBox=\"0 0 24 24\"\n",
              "       width=\"24px\">\n",
              "    <path d=\"M0 0h24v24H0V0z\" fill=\"none\"/>\n",
              "    <path d=\"M18.56 5.44l.94 2.06.94-2.06 2.06-.94-2.06-.94-.94-2.06-.94 2.06-2.06.94zm-11 1L8.5 8.5l.94-2.06 2.06-.94-2.06-.94L8.5 2.5l-.94 2.06-2.06.94zm10 10l.94 2.06.94-2.06 2.06-.94-2.06-.94-.94-2.06-.94 2.06-2.06.94z\"/><path d=\"M17.41 7.96l-1.37-1.37c-.4-.4-.92-.59-1.43-.59-.52 0-1.04.2-1.43.59L10.3 9.45l-7.72 7.72c-.78.78-.78 2.05 0 2.83L4 21.41c.39.39.9.59 1.41.59.51 0 1.02-.2 1.41-.59l7.78-7.78 2.81-2.81c.8-.78.8-2.07 0-2.86zM5.41 20L4 18.59l7.72-7.72 1.47 1.35L5.41 20z\"/>\n",
              "  </svg>\n",
              "      </button>\n",
              "      \n",
              "  <style>\n",
              "    .colab-df-container {\n",
              "      display:flex;\n",
              "      flex-wrap:wrap;\n",
              "      gap: 12px;\n",
              "    }\n",
              "\n",
              "    .colab-df-convert {\n",
              "      background-color: #E8F0FE;\n",
              "      border: none;\n",
              "      border-radius: 50%;\n",
              "      cursor: pointer;\n",
              "      display: none;\n",
              "      fill: #1967D2;\n",
              "      height: 32px;\n",
              "      padding: 0 0 0 0;\n",
              "      width: 32px;\n",
              "    }\n",
              "\n",
              "    .colab-df-convert:hover {\n",
              "      background-color: #E2EBFA;\n",
              "      box-shadow: 0px 1px 2px rgba(60, 64, 67, 0.3), 0px 1px 3px 1px rgba(60, 64, 67, 0.15);\n",
              "      fill: #174EA6;\n",
              "    }\n",
              "\n",
              "    [theme=dark] .colab-df-convert {\n",
              "      background-color: #3B4455;\n",
              "      fill: #D2E3FC;\n",
              "    }\n",
              "\n",
              "    [theme=dark] .colab-df-convert:hover {\n",
              "      background-color: #434B5C;\n",
              "      box-shadow: 0px 1px 3px 1px rgba(0, 0, 0, 0.15);\n",
              "      filter: drop-shadow(0px 1px 2px rgba(0, 0, 0, 0.3));\n",
              "      fill: #FFFFFF;\n",
              "    }\n",
              "  </style>\n",
              "\n",
              "      <script>\n",
              "        const buttonEl =\n",
              "          document.querySelector('#df-0b9e4131-49e6-496f-915a-574e49b9ee08 button.colab-df-convert');\n",
              "        buttonEl.style.display =\n",
              "          google.colab.kernel.accessAllowed ? 'block' : 'none';\n",
              "\n",
              "        async function convertToInteractive(key) {\n",
              "          const element = document.querySelector('#df-0b9e4131-49e6-496f-915a-574e49b9ee08');\n",
              "          const dataTable =\n",
              "            await google.colab.kernel.invokeFunction('convertToInteractive',\n",
              "                                                     [key], {});\n",
              "          if (!dataTable) return;\n",
              "\n",
              "          const docLinkHtml = 'Like what you see? Visit the ' +\n",
              "            '<a target=\"_blank\" href=https://colab.research.google.com/notebooks/data_table.ipynb>data table notebook</a>'\n",
              "            + ' to learn more about interactive tables.';\n",
              "          element.innerHTML = '';\n",
              "          dataTable['output_type'] = 'display_data';\n",
              "          await google.colab.output.renderOutput(dataTable, element);\n",
              "          const docLink = document.createElement('div');\n",
              "          docLink.innerHTML = docLinkHtml;\n",
              "          element.appendChild(docLink);\n",
              "        }\n",
              "      </script>\n",
              "    </div>\n",
              "  </div>\n",
              "  "
            ]
          },
          "metadata": {},
          "execution_count": 143
        }
      ]
    },
    {
      "cell_type": "code",
      "source": [
        "df.to_excel('naver_finace.xlsx')"
      ],
      "metadata": {
        "id": "Su3VSAnHLSVG"
      },
      "execution_count": 144,
      "outputs": []
    },
    {
      "cell_type": "code",
      "source": [
        "# 지니 차트 200위까지 크롤링\n",
        "# 반복문을 사용하여 크롤링\n",
        "# 수집한 데이터를 데이터 프레임으로 저장\n",
        "# 엑셀로 내보내기\n",
        "# 과제는 github에 제출"
      ],
      "metadata": {
        "id": "sh6qeDyQLcS-"
      },
      "execution_count": null,
      "outputs": []
    }
  ]
}