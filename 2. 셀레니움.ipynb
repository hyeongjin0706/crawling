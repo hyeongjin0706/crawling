{
 "cells": [
  {
   "cell_type": "markdown",
   "id": "6228ff74",
   "metadata": {},
   "source": [
    "# 1. 셀레니움(Selenium)\n",
    "* 셀레니움은 브라우저를 컨트롤 할 수 있도록 지원하는 라이브러리"
   ]
  },
  {
   "cell_type": "code",
   "execution_count": 1,
   "id": "005fd81e",
   "metadata": {},
   "outputs": [
    {
     "name": "stdout",
     "output_type": "stream",
     "text": [
      "Requirement already satisfied: selenium in c:\\users\\administrator\\appdata\\local\\programs\\python\\python38\\lib\\site-packages (4.8.3)\n",
      "Requirement already satisfied: urllib3[socks]~=1.26 in c:\\users\\administrator\\appdata\\local\\programs\\python\\python38\\lib\\site-packages (from selenium) (1.26.15)\n",
      "Requirement already satisfied: trio~=0.17 in c:\\users\\administrator\\appdata\\local\\programs\\python\\python38\\lib\\site-packages (from selenium) (0.22.0)\n",
      "Requirement already satisfied: trio-websocket~=0.9 in c:\\users\\administrator\\appdata\\local\\programs\\python\\python38\\lib\\site-packages (from selenium) (0.10.2)\n",
      "Requirement already satisfied: certifi>=2021.10.8 in c:\\users\\administrator\\appdata\\local\\programs\\python\\python38\\lib\\site-packages (from selenium) (2022.12.7)\n",
      "Requirement already satisfied: attrs>=19.2.0 in c:\\users\\administrator\\appdata\\local\\programs\\python\\python38\\lib\\site-packages (from trio~=0.17->selenium) (22.2.0)\n",
      "Requirement already satisfied: sortedcontainers in c:\\users\\administrator\\appdata\\local\\programs\\python\\python38\\lib\\site-packages (from trio~=0.17->selenium) (2.4.0)\n",
      "Requirement already satisfied: async-generator>=1.9 in c:\\users\\administrator\\appdata\\local\\programs\\python\\python38\\lib\\site-packages (from trio~=0.17->selenium) (1.10)\n",
      "Requirement already satisfied: idna in c:\\users\\administrator\\appdata\\local\\programs\\python\\python38\\lib\\site-packages (from trio~=0.17->selenium) (3.4)\n",
      "Requirement already satisfied: outcome in c:\\users\\administrator\\appdata\\local\\programs\\python\\python38\\lib\\site-packages (from trio~=0.17->selenium) (1.2.0)\n",
      "Requirement already satisfied: sniffio in c:\\users\\administrator\\appdata\\local\\programs\\python\\python38\\lib\\site-packages (from trio~=0.17->selenium) (1.3.0)\n",
      "Requirement already satisfied: cffi>=1.14 in c:\\users\\administrator\\appdata\\local\\programs\\python\\python38\\lib\\site-packages (from trio~=0.17->selenium) (1.15.1)\n",
      "Requirement already satisfied: exceptiongroup>=1.0.0rc9 in c:\\users\\administrator\\appdata\\local\\programs\\python\\python38\\lib\\site-packages (from trio~=0.17->selenium) (1.1.1)\n",
      "Requirement already satisfied: wsproto>=0.14 in c:\\users\\administrator\\appdata\\local\\programs\\python\\python38\\lib\\site-packages (from trio-websocket~=0.9->selenium) (1.2.0)\n",
      "Requirement already satisfied: PySocks!=1.5.7,<2.0,>=1.5.6 in c:\\users\\administrator\\appdata\\local\\programs\\python\\python38\\lib\\site-packages (from urllib3[socks]~=1.26->selenium) (1.7.1)\n",
      "Requirement already satisfied: pycparser in c:\\users\\administrator\\appdata\\local\\programs\\python\\python38\\lib\\site-packages (from cffi>=1.14->trio~=0.17->selenium) (2.21)\n",
      "Requirement already satisfied: h11<1,>=0.9.0 in c:\\users\\administrator\\appdata\\local\\programs\\python\\python38\\lib\\site-packages (from wsproto>=0.14->trio-websocket~=0.9->selenium) (0.14.0)\n"
     ]
    }
   ],
   "source": [
    "!pip install selenium"
   ]
  },
  {
   "cell_type": "code",
   "execution_count": 2,
   "id": "491357d2",
   "metadata": {},
   "outputs": [
    {
     "name": "stdout",
     "output_type": "stream",
     "text": [
      "Requirement already satisfied: chromedriver_autoinstaller in c:\\users\\administrator\\appdata\\local\\programs\\python\\python38\\lib\\site-packages (0.4.0)\n"
     ]
    }
   ],
   "source": [
    "!pip install chromedriver_autoinstaller"
   ]
  },
  {
   "cell_type": "code",
   "execution_count": 12,
   "id": "89de5403",
   "metadata": {},
   "outputs": [],
   "source": [
    "from selenium import webdriver\n",
    "from selenium.webdriver.common.keys import Keys"
   ]
  },
  {
   "cell_type": "code",
   "execution_count": 13,
   "id": "0b5ba0e6",
   "metadata": {},
   "outputs": [],
   "source": [
    "driver = webdriver.Chrome()"
   ]
  },
  {
   "cell_type": "code",
   "execution_count": 14,
   "id": "36585a66",
   "metadata": {},
   "outputs": [],
   "source": [
    "driver.get('https://www.google.com')"
   ]
  },
  {
   "cell_type": "code",
   "execution_count": 15,
   "id": "d89de795",
   "metadata": {},
   "outputs": [],
   "source": [
    "search = driver.find_element('name', 'q')"
   ]
  },
  {
   "cell_type": "code",
   "execution_count": 16,
   "id": "686f932f",
   "metadata": {},
   "outputs": [],
   "source": [
    "search.send_keys('병신')"
   ]
  },
  {
   "cell_type": "code",
   "execution_count": 17,
   "id": "82b049b4",
   "metadata": {},
   "outputs": [],
   "source": [
    "search.send_keys(Keys.RETURN)"
   ]
  },
  {
   "cell_type": "markdown",
   "id": "791c54d4",
   "metadata": {},
   "source": [
    "# 2. 네이버 웹툰\n",
    "* https://comic.naver.com/webtoon/detail?titleId=183559&no=567"
   ]
  },
  {
   "cell_type": "code",
   "execution_count": 21,
   "id": "35c18388",
   "metadata": {},
   "outputs": [],
   "source": [
    "from bs4 import BeautifulSoup"
   ]
  },
  {
   "cell_type": "code",
   "execution_count": 19,
   "id": "636a4da0",
   "metadata": {},
   "outputs": [],
   "source": [
    "driver = webdriver.Chrome()\n",
    "driver.get('https://comic.naver.com/webtoon/detail?titleId=183559&no=567')"
   ]
  },
  {
   "cell_type": "code",
   "execution_count": 22,
   "id": "9a40f5e3",
   "metadata": {},
   "outputs": [],
   "source": [
    "soup = BeautifulSoup(driver.page_source)"
   ]
  },
  {
   "cell_type": "code",
   "execution_count": 24,
   "id": "2c4f1919",
   "metadata": {},
   "outputs": [
    {
     "name": "stdout",
     "output_type": "stream",
     "text": [
      "[<span class=\"u_cbox_contents\" data-lang=\"ko\" style=\"\">다시 원래 신의탑으로 돌아간거 같으면 개추 ㅋㅋ</span>, <span class=\"u_cbox_contents\" data-lang=\"ko\" style=\"\">솔직히 의미가 없는 화는 아니었다고 봅니다.\n",
      "티아라 전투력이 궁금했는데 자하드 공주랑\n",
      "육탄전이 될 정도면 신체능력도 엄청나고\n",
      "신수사용도 유리가 고밀도 신수라고 했으니\n",
      "육탄전, 신수능력 다 가진 캐릭터라는 거니까 의미있는듯.\n",
      "\n",
      "하나 아쉬운 점이라면 신의탑 연재 초기 당시에\n",
      "독자들이 이제는 나이를 먹어서..\n",
      "오늘 화는 대사가 조금 유치하지 않았나 싶네요.\n",
      "복귀했을 당시에 캐릭터들의 무게감 있는 대사를\n",
      "독자들도 더 선호하고, 그리고 하이랭커니까 나이를\n",
      "먹을 만큼 먹은 사람들이니 대사는 조금 더 다듬어 주시면\n",
      "좋을 것 같습니다 ㅎㅎㅎ\n",
      "자하드 공주야 원래 컨셉이 말괄량이 공주들 느낌이라\n",
      "대사가 어느정도 가벼운 건 작가님 의도라지만 그 정도가\n",
      "조금 줄어들면 어떨까 싶네요.</span>, <span class=\"u_cbox_contents\" data-lang=\"ko\" style=\"\">1. 분량이 원래 많았던 건 맞음 2. 근데 휴재 이후에 2편씩 업데이트 하면서 한 편당 \n",
      "분량을 줄여나간 것도 맞음 \n",
      "3. 근데 그게 적은 양은 아님\n",
      "4. 충분히 2편씩 업데이트 하면서 적응할 수 있게 배려해줬다 \n",
      "5. 이제는 계속 이 분량으로 간다는 걸 눈치가 있으면 받아들여야 함\n",
      "6. 그게 마음에 안들면 기다려서 보는 게 맞다</span>, <span class=\"u_cbox_contents\" data-lang=\"ko\" style=\"\">유리한테만큼은 존대 쓰던 쿤 어디갔누 </span>, <span class=\"u_cbox_contents\" data-lang=\"ko\" style=\"\">아니 억까가 너무 심함ㅋㅋㅋㅋ 신의탑 원래 대사 중간중간에 유치한 대사로 농담 따먹기 하는게 1화때부터 작가님 스타일이였음</span>, <span class=\"u_cbox_contents\" data-lang=\"ko\" style=\"\">작가님 대사를 억지로 젊어보이게 하는 거 보다 자연스러운게 좋을 거 같습니다.\n",
      "킹받게, 반응속도보소등 이런것만 억지로 집어넣지 않으셔도 작품이 훨씬 괜찮아질거같네요.</span>, <span class=\"u_cbox_contents\" data-lang=\"ko\" style=\"\">2기때 어시들 관뒀나요?</span>, <span class=\"u_cbox_contents\" data-lang=\"ko\" style=\"\">최근에 정주행했는데 3부 중간부터 대사 담당하는 사람이 바뀐 느낌임. 2부에는 스토리도 그렇고 캐릭터도 입체적이었는데 지금은 감정이나 서사를 너무 생략해서 어색함</span>, <span class=\"u_cbox_contents\" data-lang=\"ko\" style=\"\">재밌구만.평 왜이래</span>, <span class=\"u_cbox_contents\" data-lang=\"ko\" style=\"\">'킹받네',  '반응속도보소',  '똥구더기'... 대사 수준 너무 처참하다</span>, <span class=\"u_cbox_contents\" data-lang=\"ko\" style=\"\">하가문 출신인 유리 자하드보다 머리가 단단할 정도면 얼마나 돌머린거지?</span>, <span class=\"u_cbox_contents\" data-lang=\"ko\" style=\"\">네이버웹툰도 걍 댓글 없어지면 안되나 이제는 뭔가 없는게 나을거 같기도한데</span>, <span class=\"u_cbox_contents\" data-lang=\"ko\" style=\"\">신의탑이 초기엔 진짜 일반 랭커들끼리만 싸워도 웅장했는데 지금은 솔직히 네임드 하이랭커끼리 붙어도 랭킹 100위권 내 하이랭커 아닌이상 엑스트라들의 대결같아서 이전 신의탑보다 조금 부족한 느낌을 받는 상태에서 캐릭터를 대사마저 가벼운 느낌이라 더 그렇게 와닿는거같아요 </span>, <span class=\"u_cbox_contents\" data-lang=\"ko\" style=\"\">유리눈나 외모 너프먹은것같아 안타까운 1인 ㅠㅠ</span>, <span class=\"u_cbox_contents\" data-lang=\"ko\" style=\"\">아니 근데 다른것 그렇다 치고 대사수준이 예전보다 너무 떨어짐</span>]\n"
     ]
    }
   ],
   "source": [
    "comment_area = soup.findAll('span', {'class', 'u_cbox_contents'})\n",
    "print(comment_area)"
   ]
  },
  {
   "cell_type": "code",
   "execution_count": 25,
   "id": "8d41d77e",
   "metadata": {},
   "outputs": [
    {
     "name": "stdout",
     "output_type": "stream",
     "text": [
      "********** 베스트 댓글 **********\n",
      "다시 원래 신의탑으로 돌아간거 같으면 개추 ㅋㅋ\n",
      "------------------------------\n",
      "솔직히 의미가 없는 화는 아니었다고 봅니다.\n",
      "티아라 전투력이 궁금했는데 자하드 공주랑\n",
      "육탄전이 될 정도면 신체능력도 엄청나고\n",
      "신수사용도 유리가 고밀도 신수라고 했으니\n",
      "육탄전, 신수능력 다 가진 캐릭터라는 거니까 의미있는듯.\n",
      "\n",
      "하나 아쉬운 점이라면 신의탑 연재 초기 당시에\n",
      "독자들이 이제는 나이를 먹어서..\n",
      "오늘 화는 대사가 조금 유치하지 않았나 싶네요.\n",
      "복귀했을 당시에 캐릭터들의 무게감 있는 대사를\n",
      "독자들도 더 선호하고, 그리고 하이랭커니까 나이를\n",
      "먹을 만큼 먹은 사람들이니 대사는 조금 더 다듬어 주시면\n",
      "좋을 것 같습니다 ㅎㅎㅎ\n",
      "자하드 공주야 원래 컨셉이 말괄량이 공주들 느낌이라\n",
      "대사가 어느정도 가벼운 건 작가님 의도라지만 그 정도가\n",
      "조금 줄어들면 어떨까 싶네요.\n",
      "------------------------------\n",
      "1. 분량이 원래 많았던 건 맞음 2. 근데 휴재 이후에 2편씩 업데이트 하면서 한 편당 \n",
      "분량을 줄여나간 것도 맞음 \n",
      "3. 근데 그게 적은 양은 아님\n",
      "4. 충분히 2편씩 업데이트 하면서 적응할 수 있게 배려해줬다 \n",
      "5. 이제는 계속 이 분량으로 간다는 걸 눈치가 있으면 받아들여야 함\n",
      "6. 그게 마음에 안들면 기다려서 보는 게 맞다\n",
      "------------------------------\n",
      "유리한테만큼은 존대 쓰던 쿤 어디갔누\n",
      "------------------------------\n",
      "아니 억까가 너무 심함ㅋㅋㅋㅋ 신의탑 원래 대사 중간중간에 유치한 대사로 농담 따먹기 하는게 1화때부터 작가님 스타일이였음\n",
      "------------------------------\n",
      "작가님 대사를 억지로 젊어보이게 하는 거 보다 자연스러운게 좋을 거 같습니다.\n",
      "킹받게, 반응속도보소등 이런것만 억지로 집어넣지 않으셔도 작품이 훨씬 괜찮아질거같네요.\n",
      "------------------------------\n",
      "2기때 어시들 관뒀나요?\n",
      "------------------------------\n",
      "최근에 정주행했는데 3부 중간부터 대사 담당하는 사람이 바뀐 느낌임. 2부에는 스토리도 그렇고 캐릭터도 입체적이었는데 지금은 감정이나 서사를 너무 생략해서 어색함\n",
      "------------------------------\n",
      "재밌구만.평 왜이래\n",
      "------------------------------\n",
      "'킹받네',  '반응속도보소',  '똥구더기'... 대사 수준 너무 처참하다\n",
      "------------------------------\n",
      "하가문 출신인 유리 자하드보다 머리가 단단할 정도면 얼마나 돌머린거지?\n",
      "------------------------------\n",
      "네이버웹툰도 걍 댓글 없어지면 안되나 이제는 뭔가 없는게 나을거 같기도한데\n",
      "------------------------------\n",
      "신의탑이 초기엔 진짜 일반 랭커들끼리만 싸워도 웅장했는데 지금은 솔직히 네임드 하이랭커끼리 붙어도 랭킹 100위권 내 하이랭커 아닌이상 엑스트라들의 대결같아서 이전 신의탑보다 조금 부족한 느낌을 받는 상태에서 캐릭터를 대사마저 가벼운 느낌이라 더 그렇게 와닿는거같아요\n",
      "------------------------------\n",
      "유리눈나 외모 너프먹은것같아 안타까운 1인 ㅠㅠ\n",
      "------------------------------\n",
      "아니 근데 다른것 그렇다 치고 대사수준이 예전보다 너무 떨어짐\n",
      "------------------------------\n"
     ]
    }
   ],
   "source": [
    "print('********** 베스트 댓글 **********')\n",
    "for i in range(len(comment_area)):\n",
    "    comment = comment_area[i].text.strip()\n",
    "    print(comment)\n",
    "    print('-'*30)"
   ]
  },
  {
   "cell_type": "code",
   "execution_count": 26,
   "id": "e1c1040d",
   "metadata": {},
   "outputs": [],
   "source": [
    "# 공통적인것을 할때는 태그찾기가 좋음\n",
    "# 요소 찾은 뒤, copy full xpath\n",
    "# //*[@id=\"cbox_module_wai_u_cbox_sort_option_tab2\"]/span[2]"
   ]
  },
  {
   "cell_type": "markdown",
   "id": "5e4cbb3a",
   "metadata": {},
   "source": [
    "* XPath : 기존의 컴퓨터 파일 시스템에서 사용하는 경로 표현식과 유사한 XML의 경로 언어\n",
    "* //*[@id=\"cbox_module\"]/div/div[8]/a"
   ]
  },
  {
   "cell_type": "code",
   "execution_count": 28,
   "id": "68308179",
   "metadata": {},
   "outputs": [],
   "source": [
    "# '전체 댓글 더보기' 버튼 클릭하기\n",
    "driver.find_element('xpath','//*[@id=\"cbox_module\"]/div/div[8]/a').click()"
   ]
  },
  {
   "cell_type": "code",
   "execution_count": 29,
   "id": "9a63a59f",
   "metadata": {},
   "outputs": [
    {
     "name": "stdout",
     "output_type": "stream",
     "text": [
      "[<span class=\"u_cbox_contents\" data-lang=\"ko\" style=\"\">야무치 오마주 얘기는 없네</span>, <span class=\"u_cbox_contents\" data-lang=\"ko\" style=\"\">ㅈㄴ 걍 봐 뭔 비평가들 납셨네</span>, <span class=\"u_cbox_contents\" data-lang=\"ko\" style=\"\">유리 얼굴이 왜이래</span>, <span class=\"u_cbox_contents\" data-lang=\"ko\" style=\"\">잼나기만 하구먼 먼 불만들이 그렇게 많냐</span>, <span class=\"u_cbox_contents\" data-lang=\"ko\" style=\"\">야무치 그 자세 ㅋㅋ</span>, <span class=\"u_cbox_contents\" data-lang=\"ko\" style=\"\">대사 킹받네 작가님 시대 반응속도 보소원래 유리는 농담은 했어도 저런 유치한 말투 안 썼잖아요 밈이나 유행어를 써도 적절하게 녹여야 하는데 억지로 집어넣으면 몰입도가 확 떨어집니다 새로운 미치광이 공주는 어떤 캐릭터인지 몰라도요 저런 말투는 퀀트나 우렉 같은 애들이 쓰게 해주세요 </span>, <span class=\"u_cbox_contents\" data-lang=\"ko\" style=\"\">킹받게, 반응속도보소 같은 대사들 쓰는거 자체는 난 크게 문제라고 생각 안 하는데 그런 대사를 써도 이상하지 않은, 그런 화법을 구사하는 캐릭터만 쓰는게 맞다고 생각함. 캐릭터 성격이나 말투 이런거 고려 없이 그냥 쓰고싶은 대사 휘갈겨 놓으니까 저항이 있는듯</span>, <span class=\"u_cbox_contents\" data-lang=\"ko\" style=\"\">신탑 초기에 시험의층에서부터 작가님 대사 스따일이었는데 다들 왜그래</span>, <span class=\"u_cbox_contents\" data-lang=\"ko\" style=\"\">그냥 봐라 개 돼지들아</span>, <span class=\"u_cbox_contents\" data-lang=\"ko\" style=\"\">반대를 위한 반대구만 쉬고오시고 재밌기만한데? 담주엔 억까좀 떨어져서 평점 올라가겠지 뭐</span>, <span class=\"u_cbox_contents\" data-lang=\"ko\" style=\"\">장사유리누나</span>, <span class=\"u_cbox_contents\" data-lang=\"ko\" style=\"\">지금 작가님이 그리시는 거 아니죠?어시 한 명도 없던 시절보다 못한데...\n",
      "\n",
      "작가님 잘 그릴 줄 아시잖아요\n",
      "다른 작품  준비하고 계셔서 신의탑에 대한 애정이 떨어지신 건가요ㅠㅠ</span>, <span class=\"u_cbox_contents\" data-lang=\"ko\" style=\"\">정주행해보면 이번화 나쁘지않은데 물타기너무심하네</span>, <span class=\"u_cbox_contents\" data-lang=\"ko\" style=\"\">그냥 여기서 끝내라;;;</span>, <span class=\"u_cbox_contents\" data-lang=\"ko\" style=\"\">전보다 그림체도 깔끔해지고 스토리 전개 방식도 괜찮아졌고 화면 구성도 다 좋은데 뭔가 사이다가 부족해서 괴로움... 밤 엄청 강해졌고 &amp; 밤이랑 인연있는 강자들이 무더기로 쏟아져 나오는 시점인 거 같은데 그런 캐들이 자꾸 갑분 등장한 캐들한테 대등하게 싸우고 밀리고 이러니까 뭔가... 얘가 얘한테 밀린다고? 쟤가 저기에 말려든다고? 왜? 라는 의문이 끊이질 않음 산 넘어 산은 이제 그만할 때도 되지 않았나... 도대체 몇 개의 산을 더 넘어야 하는가...</span>]\n"
     ]
    }
   ],
   "source": [
    "soup = BeautifulSoup(driver.page_source)\n",
    "comment_area = soup.findAll('span', {'class', 'u_cbox_contents'})\n",
    "print(comment_area)"
   ]
  },
  {
   "cell_type": "code",
   "execution_count": 30,
   "id": "4147f379",
   "metadata": {},
   "outputs": [
    {
     "name": "stdout",
     "output_type": "stream",
     "text": [
      "********** 전체 댓글 **********\n",
      "야무치 오마주 얘기는 없네\n",
      "------------------------------\n",
      "ㅈㄴ 걍 봐 뭔 비평가들 납셨네\n",
      "------------------------------\n",
      "유리 얼굴이 왜이래\n",
      "------------------------------\n",
      "잼나기만 하구먼 먼 불만들이 그렇게 많냐\n",
      "------------------------------\n",
      "야무치 그 자세 ㅋㅋ\n",
      "------------------------------\n",
      "대사 킹받네 작가님 시대 반응속도 보소원래 유리는 농담은 했어도 저런 유치한 말투 안 썼잖아요 밈이나 유행어를 써도 적절하게 녹여야 하는데 억지로 집어넣으면 몰입도가 확 떨어집니다 새로운 미치광이 공주는 어떤 캐릭터인지 몰라도요 저런 말투는 퀀트나 우렉 같은 애들이 쓰게 해주세요\n",
      "------------------------------\n",
      "킹받게, 반응속도보소 같은 대사들 쓰는거 자체는 난 크게 문제라고 생각 안 하는데 그런 대사를 써도 이상하지 않은, 그런 화법을 구사하는 캐릭터만 쓰는게 맞다고 생각함. 캐릭터 성격이나 말투 이런거 고려 없이 그냥 쓰고싶은 대사 휘갈겨 놓으니까 저항이 있는듯\n",
      "------------------------------\n",
      "신탑 초기에 시험의층에서부터 작가님 대사 스따일이었는데 다들 왜그래\n",
      "------------------------------\n",
      "그냥 봐라 개 돼지들아\n",
      "------------------------------\n",
      "반대를 위한 반대구만 쉬고오시고 재밌기만한데? 담주엔 억까좀 떨어져서 평점 올라가겠지 뭐\n",
      "------------------------------\n",
      "장사유리누나\n",
      "------------------------------\n",
      "지금 작가님이 그리시는 거 아니죠?어시 한 명도 없던 시절보다 못한데...\n",
      "\n",
      "작가님 잘 그릴 줄 아시잖아요\n",
      "다른 작품  준비하고 계셔서 신의탑에 대한 애정이 떨어지신 건가요ㅠㅠ\n",
      "------------------------------\n",
      "정주행해보면 이번화 나쁘지않은데 물타기너무심하네\n",
      "------------------------------\n",
      "그냥 여기서 끝내라;;;\n",
      "------------------------------\n",
      "전보다 그림체도 깔끔해지고 스토리 전개 방식도 괜찮아졌고 화면 구성도 다 좋은데 뭔가 사이다가 부족해서 괴로움... 밤 엄청 강해졌고 & 밤이랑 인연있는 강자들이 무더기로 쏟아져 나오는 시점인 거 같은데 그런 캐들이 자꾸 갑분 등장한 캐들한테 대등하게 싸우고 밀리고 이러니까 뭔가... 얘가 얘한테 밀린다고? 쟤가 저기에 말려든다고? 왜? 라는 의문이 끊이질 않음 산 넘어 산은 이제 그만할 때도 되지 않았나... 도대체 몇 개의 산을 더 넘어야 하는가...\n",
      "------------------------------\n"
     ]
    }
   ],
   "source": [
    "print('********** 전체 댓글 **********')\n",
    "for i in range(len(comment_area)):\n",
    "    comment = comment_area[i].text.strip()\n",
    "    print(comment)\n",
    "    print('-'*30)"
   ]
  },
  {
   "cell_type": "code",
   "execution_count": null,
   "id": "737bef4d",
   "metadata": {},
   "outputs": [],
   "source": []
  }
 ],
 "metadata": {
  "kernelspec": {
   "display_name": "Python 3 (ipykernel)",
   "language": "python",
   "name": "python3"
  },
  "language_info": {
   "codemirror_mode": {
    "name": "ipython",
    "version": 3
   },
   "file_extension": ".py",
   "mimetype": "text/x-python",
   "name": "python",
   "nbconvert_exporter": "python",
   "pygments_lexer": "ipython3",
   "version": "3.8.6"
  }
 },
 "nbformat": 4,
 "nbformat_minor": 5
}
