{
 "cells": [
  {
   "cell_type": "markdown",
   "id": "3c75cbd4",
   "metadata": {},
   "source": [
    "# 1. 로그인"
   ]
  },
  {
   "cell_type": "code",
   "execution_count": 18,
   "id": "f9919f5e",
   "metadata": {},
   "outputs": [],
   "source": [
    "from selenium import webdriver\n",
    "import time\n",
    "import chromedriver_autoinstaller\n",
    "from selenium.webdriver.common.by import By"
   ]
  },
  {
   "cell_type": "code",
   "execution_count": 21,
   "id": "5d0147a0",
   "metadata": {},
   "outputs": [],
   "source": [
    "driver = webdriver.Chrome()"
   ]
  },
  {
   "cell_type": "code",
   "execution_count": null,
   "id": "c301c50f",
   "metadata": {},
   "outputs": [],
   "source": [
    "# 완벽하게 로드 되기전까지 최대 3초까지 기다림\n",
    "driver.implicitly_wait(3)\n",
    "\n",
    "url = 'https://www.instagram.com/'\n",
    "driver.get(url)\n",
    "\n",
    "id = 'udirohelper@gmail.com'\n",
    "pw = 'gksgudwls1!'\n",
    "\n",
    "# 아이디 입력하는 input 태그 full Xpath\n",
    "# /html/body/div[2]/div/div/div[1]/div/div/div/div[1]/section/main/article/div[2]/div[1]/div[2]/form/div/div[1]/div/label/input\n",
    "\n",
    "# 비밀번호 입력하는 input 태그 full Xpath\n",
    "# /html/body/div[2]/div/div/div[1]/div/div/div/div[1]/section/main/article/div[2]/div[1]/div[2]/form/div/div[2]/div/label/input\n",
    "input_id = driver.find_element(By.XPATH, '/html/body/div[2]/div/div/div[1]/div/div/div/div[1]/section/main/article/div[2]/div[1]/div[2]/form/div/div[1]/div/label/input')\n",
    "input_pw = driver.find_element(By.XPATH, '/html/body/div[2]/div/div/div[1]/div/div/div/div[1]/section/main/article/div[2]/div[1]/div[2]/form/div/div[2]/div/label/input')\n",
    "input_id.send_keys(id)\n",
    "input_pw.send_keys(pw)\n",
    "\n",
    "driver.find_element(By.XPATH, '/html/body/div[2]/div/div/div[1]/div/div/div/div[1]/section/main/article/div[2]/div[1]/div[2]/form/div/div[3]/button').click()\n",
    "time.sleep(5)"
   ]
  },
  {
   "cell_type": "markdown",
   "id": "ed0f11e4",
   "metadata": {},
   "source": [
    "# 2. 해시태그 검색"
   ]
  },
  {
   "cell_type": "code",
   "execution_count": 23,
   "id": "56ea6e27",
   "metadata": {},
   "outputs": [],
   "source": [
    "hashtag = '고양이'\n",
    "url = f'https://www.instagram.com/explore/tags/{hashtag}/'\n",
    "\n",
    "driver.get(url)\n",
    "time.sleep(5)"
   ]
  },
  {
   "cell_type": "markdown",
   "id": "605f1823",
   "metadata": {},
   "source": [
    "# 3. 스크롤 내리기"
   ]
  },
  {
   "cell_type": "code",
   "execution_count": 25,
   "id": "b48881c3",
   "metadata": {},
   "outputs": [],
   "source": [
    "for _ in range(5):\n",
    "    driver.execute_script('window.scrollTo(0, document.body.scrollHeight)')\n",
    "    time.sleep(5)"
   ]
  },
  {
   "cell_type": "markdown",
   "id": "a38cf072",
   "metadata": {},
   "source": [
    "# 4. 원하는 사진 클릭하기"
   ]
  },
  {
   "cell_type": "code",
   "execution_count": 26,
   "id": "dcfda8e6",
   "metadata": {},
   "outputs": [],
   "source": [
    "xpath = '/html/body/div[2]/div/div/div[2]/div/div/div/div[1]/div[1]/div[2]/section/main/article/div[2]/div/div[11]/div[2]/a'\n",
    "driver.find_element(By.XPATH, xpath).click()\n",
    "time.sleep(3)"
   ]
  },
  {
   "cell_type": "markdown",
   "id": "6758717b",
   "metadata": {},
   "source": [
    "# 5. 좋아요 클릭하기"
   ]
  },
  {
   "cell_type": "code",
   "execution_count": 27,
   "id": "065e4bd0",
   "metadata": {},
   "outputs": [],
   "source": [
    "like_xpath = '/html/body/div[2]/div/div/div[3]/div/div/div[1]/div/div[3]/div/div/div/div/div[2]/div/article/div/div[2]/div/div/div[2]/section[1]/span[1]/button'\n",
    "driver.find_element(By.XPATH, like_xpath).click()\n",
    "time.sleep(1)"
   ]
  },
  {
   "cell_type": "markdown",
   "id": "a471ff31",
   "metadata": {},
   "source": [
    "# 6. 댓글 달기"
   ]
  },
  {
   "cell_type": "code",
   "execution_count": 33,
   "id": "f06d2a9c",
   "metadata": {},
   "outputs": [],
   "source": [
    "comment = '귀여워요!'\n",
    "comment_xpath = '/html/body/div[2]/div/div/div[3]/div/div/div[1]/div/div[3]/div/div/div/div/div[2]/div/article/div/div[2]/div/div/div[2]/section[3]/div/form/div/textarea'\n",
    "\n",
    "driver.find_element(By.XPATH, comment_xpath).click()\n",
    "driver.find_element(By.XPATH, comment_xpath).send_keys(comment)\n",
    "time.sleep(3)"
   ]
  },
  {
   "cell_type": "code",
   "execution_count": 34,
   "id": "77277475",
   "metadata": {},
   "outputs": [],
   "source": [
    "send_xpath = '/html/body/div[2]/div/div/div[3]/div/div/div[1]/div/div[3]/div/div/div/div/div[2]/div/article/div/div[2]/div/div/div[2]/section[3]/div/form/div/div[2]/div'\n",
    "driver.find_element(By.XPATH, send_xpath).click()\n",
    "time.sleep(3)"
   ]
  },
  {
   "cell_type": "code",
   "execution_count": 35,
   "id": "7babe7e5",
   "metadata": {},
   "outputs": [],
   "source": [
    "next_xpath = '/html/body/div[2]/div/div/div[3]/div/div/div[1]/div/div[3]/div/div/div/div/div[1]/div/div/div[2]/button'\n",
    "driver.find_element(By.XPATH, next_xpath).click()\n",
    "time.sleep(3)"
   ]
  },
  {
   "cell_type": "markdown",
   "id": "af87e4d2",
   "metadata": {},
   "source": [
    "# 6. 함수로 리팩토링"
   ]
  },
  {
   "cell_type": "code",
   "execution_count": 36,
   "id": "dd5e2036",
   "metadata": {},
   "outputs": [],
   "source": [
    "# 로그인\n",
    "# 해시태그 검색 함수\n",
    "# 좋아요 및 댓글달기(어떤 사진을 선택할지 index, 댓글, 반복)"
   ]
  },
  {
   "cell_type": "code",
   "execution_count": 47,
   "id": "61221c7c",
   "metadata": {},
   "outputs": [],
   "source": [
    "def login(id, pw): \n",
    "    input_id = driver.find_element(By.XPATH, '/html/body/div[2]/div/div/div[1]/div/div/div/div[1]/section/main/article/div[2]/div[1]/div[2]/form/div/div[1]/div/label/input')\n",
    "    input_pw = driver.find_element(By.XPATH, '/html/body/div[2]/div/div/div[1]/div/div/div/div[1]/section/main/article/div[2]/div[1]/div[2]/form/div/div[2]/div/label/input')\n",
    "    \n",
    "    input_id.send_keys(id)\n",
    "    input_pw.send_keys(pw)\n",
    "\n",
    "    driver.find_element(By.XPATH, '/html/body/div[2]/div/div/div[1]/div/div/div/div[1]/section/main/article/div[2]/div[1]/div[2]/form/div/div[3]/button/div').click()\n",
    "    time.sleep(5)"
   ]
  },
  {
   "cell_type": "code",
   "execution_count": 48,
   "id": "aa703359",
   "metadata": {},
   "outputs": [],
   "source": [
    "# hashtag = '고양이'\n",
    "# url = f'https://www.instagram.com/explore/tags/{hashtag}/'\n",
    "\n",
    "# driver.get(url)\n",
    "# time.sleep(5)\n",
    "\n",
    "def search_Hashtag(hashtag, scroll_times):\n",
    "    url = f'https://www.instagram.com/explore/tags/{hashtag}/'\n",
    "    driver.get(url)\n",
    "    time.sleep(5)\n",
    "    \n",
    "    for _ in range(scroll_times):\n",
    "        driver.execute_script('window.scrollTo(0, document.body.scrollHeight)')\n",
    "        time.sleep(5)"
   ]
  },
  {
   "cell_type": "code",
   "execution_count": 51,
   "id": "4cf49677",
   "metadata": {},
   "outputs": [],
   "source": [
    "def like_and_comment(index, comment, re=1):\n",
    "    row = (index-1) // 3 + 1\n",
    "    col = (index-1) % 3 +1\n",
    "    xpath = f'/html/body/div[2]/div/div/div[2]/div/div/div/div[1]/div[1]/div[2]/section/main/article/div[2]/div/div[{row}]/div[{col}]/a'\n",
    "    driver.find_element(By.XPATH, xpath).click()\n",
    "    time.sleep(3)\n",
    "\n",
    "    for i in range(re):\n",
    "#         like_xpath = '/html/body/div[2]/div/div/div[3]/div/div/div[1]/div/div[3]/div/div/div/div/div[2]/div/article/div/div[2]/div/div/div[2]/section[1]/span[1]/button'\n",
    "#         driver.find_element(By.XPATH, like_xpath).click()\n",
    "#         time.sleep(1)\n",
    "        \n",
    "        comment_xpath = '/html/body/div[2]/div/div/div[3]/div/div/div[1]/div/div[3]/div/div/div/div/div[2]/div/article/div/div[2]/div/div/div[2]/section[3]/div/form/div/textarea'\n",
    "        driver.find_element(By.XPATH, comment_xpath).click()\n",
    "        driver.find_element(By.XPATH, comment_xpath).send_keys(comment)\n",
    "        time.sleep(3)\n",
    "        \n",
    "        send_xpath = '/html/body/div[2]/div/div/div[3]/div/div/div[1]/div/div[3]/div/div/div/div/div[2]/div/article/div/div[2]/div/div/div[2]/section[3]/div/form/div/div[2]/div'\n",
    "        driver.find_element(By.XPATH, send_xpath).click()\n",
    "        time.sleep(3)\n",
    "        \n",
    "        if i+1 < re:\n",
    "            next_xpath = '/html/body/div[2]/div/div/div[3]/div/div/div[1]/div/div[3]/div/div/div/div/div[1]/div/div/div[2]/button'\n",
    "            driver.find_element(By.XPATH, next_xpath).click()\n",
    "            time.sleep(3)"
   ]
  },
  {
   "cell_type": "code",
   "execution_count": 53,
   "id": "bcd1eb4f",
   "metadata": {
    "scrolled": true
   },
   "outputs": [
    {
     "ename": "NoSuchElementException",
     "evalue": "Message: no such element: Unable to locate element: {\"method\":\"xpath\",\"selector\":\"/html/body/div[2]/div/div/div[3]/div/div/div[1]/div/div[3]/div/div/div/div/div[2]/div/article/div/div[2]/div/div/div[2]/section[3]/div/form/div/textarea\"}\n  (Session info: chrome=113.0.5672.129)\nStacktrace:\nBacktrace:\n\tGetHandleVerifier [0x00F78893+48451]\n\t(No symbol) [0x00F0B8A1]\n\t(No symbol) [0x00E15058]\n\t(No symbol) [0x00E40467]\n\t(No symbol) [0x00E4069B]\n\t(No symbol) [0x00E6DD92]\n\t(No symbol) [0x00E5A304]\n\t(No symbol) [0x00E6C482]\n\t(No symbol) [0x00E5A0B6]\n\t(No symbol) [0x00E37E08]\n\t(No symbol) [0x00E38F2D]\n\tGetHandleVerifier [0x011D8E3A+2540266]\n\tGetHandleVerifier [0x01218959+2801161]\n\tGetHandleVerifier [0x0121295C+2776588]\n\tGetHandleVerifier [0x01002280+612144]\n\t(No symbol) [0x00F14F6C]\n\t(No symbol) [0x00F111D8]\n\t(No symbol) [0x00F112BB]\n\t(No symbol) [0x00F04857]\n\tBaseThreadInitThunk [0x77B600F9+25]\n\tRtlGetAppContainerNamedObjectPath [0x77E27BBE+286]\n\tRtlGetAppContainerNamedObjectPath [0x77E27B8E+238]\n",
     "output_type": "error",
     "traceback": [
      "\u001b[1;31m---------------------------------------------------------------------------\u001b[0m",
      "\u001b[1;31mNoSuchElementException\u001b[0m                    Traceback (most recent call last)",
      "Cell \u001b[1;32mIn[53], line 17\u001b[0m\n\u001b[0;32m     14\u001b[0m search_Hashtag(hashtag, \u001b[38;5;241m3\u001b[39m)\n\u001b[0;32m     15\u001b[0m time\u001b[38;5;241m.\u001b[39msleep(\u001b[38;5;241m5\u001b[39m)\n\u001b[1;32m---> 17\u001b[0m \u001b[43mlike_and_comment\u001b[49m\u001b[43m(\u001b[49m\u001b[38;5;241;43m15\u001b[39;49m\u001b[43m,\u001b[49m\u001b[43m \u001b[49m\u001b[38;5;124;43m'\u001b[39;49m\u001b[38;5;124;43m귀여워요!\u001b[39;49m\u001b[38;5;124;43m'\u001b[39;49m\u001b[43m,\u001b[49m\u001b[43m \u001b[49m\u001b[38;5;241;43m3\u001b[39;49m\u001b[43m)\u001b[49m\n",
      "Cell \u001b[1;32mIn[51], line 14\u001b[0m, in \u001b[0;36mlike_and_comment\u001b[1;34m(index, comment, re)\u001b[0m\n\u001b[0;32m      8\u001b[0m     \u001b[38;5;28;01mfor\u001b[39;00m i \u001b[38;5;129;01min\u001b[39;00m \u001b[38;5;28mrange\u001b[39m(re):\n\u001b[0;32m      9\u001b[0m \u001b[38;5;66;03m#         like_xpath = '/html/body/div[2]/div/div/div[3]/div/div/div[1]/div/div[3]/div/div/div/div/div[2]/div/article/div/div[2]/div/div/div[2]/section[1]/span[1]/button'\u001b[39;00m\n\u001b[0;32m     10\u001b[0m \u001b[38;5;66;03m#         driver.find_element(By.XPATH, like_xpath).click()\u001b[39;00m\n\u001b[0;32m     11\u001b[0m \u001b[38;5;66;03m#         time.sleep(1)\u001b[39;00m\n\u001b[0;32m     13\u001b[0m         comment_xpath \u001b[38;5;241m=\u001b[39m \u001b[38;5;124m'\u001b[39m\u001b[38;5;124m/html/body/div[2]/div/div/div[3]/div/div/div[1]/div/div[3]/div/div/div/div/div[2]/div/article/div/div[2]/div/div/div[2]/section[3]/div/form/div/textarea\u001b[39m\u001b[38;5;124m'\u001b[39m\n\u001b[1;32m---> 14\u001b[0m         \u001b[43mdriver\u001b[49m\u001b[38;5;241;43m.\u001b[39;49m\u001b[43mfind_element\u001b[49m\u001b[43m(\u001b[49m\u001b[43mBy\u001b[49m\u001b[38;5;241;43m.\u001b[39;49m\u001b[43mXPATH\u001b[49m\u001b[43m,\u001b[49m\u001b[43m \u001b[49m\u001b[43mcomment_xpath\u001b[49m\u001b[43m)\u001b[49m\u001b[38;5;241m.\u001b[39mclick()\n\u001b[0;32m     15\u001b[0m         driver\u001b[38;5;241m.\u001b[39mfind_element(By\u001b[38;5;241m.\u001b[39mXPATH, comment_xpath)\u001b[38;5;241m.\u001b[39msend_keys(comment)\n\u001b[0;32m     16\u001b[0m         time\u001b[38;5;241m.\u001b[39msleep(\u001b[38;5;241m3\u001b[39m)\n",
      "File \u001b[1;32mc:\\users\\administrator\\appdata\\local\\programs\\python\\python38\\lib\\site-packages\\selenium\\webdriver\\remote\\webdriver.py:831\u001b[0m, in \u001b[0;36mWebDriver.find_element\u001b[1;34m(self, by, value)\u001b[0m\n\u001b[0;32m    828\u001b[0m     by \u001b[38;5;241m=\u001b[39m By\u001b[38;5;241m.\u001b[39mCSS_SELECTOR\n\u001b[0;32m    829\u001b[0m     value \u001b[38;5;241m=\u001b[39m \u001b[38;5;124mf\u001b[39m\u001b[38;5;124m'\u001b[39m\u001b[38;5;124m[name=\u001b[39m\u001b[38;5;124m\"\u001b[39m\u001b[38;5;132;01m{\u001b[39;00mvalue\u001b[38;5;132;01m}\u001b[39;00m\u001b[38;5;124m\"\u001b[39m\u001b[38;5;124m]\u001b[39m\u001b[38;5;124m'\u001b[39m\n\u001b[1;32m--> 831\u001b[0m \u001b[38;5;28;01mreturn\u001b[39;00m \u001b[38;5;28;43mself\u001b[39;49m\u001b[38;5;241;43m.\u001b[39;49m\u001b[43mexecute\u001b[49m\u001b[43m(\u001b[49m\u001b[43mCommand\u001b[49m\u001b[38;5;241;43m.\u001b[39;49m\u001b[43mFIND_ELEMENT\u001b[49m\u001b[43m,\u001b[49m\u001b[43m \u001b[49m\u001b[43m{\u001b[49m\u001b[38;5;124;43m\"\u001b[39;49m\u001b[38;5;124;43musing\u001b[39;49m\u001b[38;5;124;43m\"\u001b[39;49m\u001b[43m:\u001b[49m\u001b[43m \u001b[49m\u001b[43mby\u001b[49m\u001b[43m,\u001b[49m\u001b[43m \u001b[49m\u001b[38;5;124;43m\"\u001b[39;49m\u001b[38;5;124;43mvalue\u001b[39;49m\u001b[38;5;124;43m\"\u001b[39;49m\u001b[43m:\u001b[49m\u001b[43m \u001b[49m\u001b[43mvalue\u001b[49m\u001b[43m}\u001b[49m\u001b[43m)\u001b[49m[\u001b[38;5;124m\"\u001b[39m\u001b[38;5;124mvalue\u001b[39m\u001b[38;5;124m\"\u001b[39m]\n",
      "File \u001b[1;32mc:\\users\\administrator\\appdata\\local\\programs\\python\\python38\\lib\\site-packages\\selenium\\webdriver\\remote\\webdriver.py:440\u001b[0m, in \u001b[0;36mWebDriver.execute\u001b[1;34m(self, driver_command, params)\u001b[0m\n\u001b[0;32m    438\u001b[0m response \u001b[38;5;241m=\u001b[39m \u001b[38;5;28mself\u001b[39m\u001b[38;5;241m.\u001b[39mcommand_executor\u001b[38;5;241m.\u001b[39mexecute(driver_command, params)\n\u001b[0;32m    439\u001b[0m \u001b[38;5;28;01mif\u001b[39;00m response:\n\u001b[1;32m--> 440\u001b[0m     \u001b[38;5;28;43mself\u001b[39;49m\u001b[38;5;241;43m.\u001b[39;49m\u001b[43merror_handler\u001b[49m\u001b[38;5;241;43m.\u001b[39;49m\u001b[43mcheck_response\u001b[49m\u001b[43m(\u001b[49m\u001b[43mresponse\u001b[49m\u001b[43m)\u001b[49m\n\u001b[0;32m    441\u001b[0m     response[\u001b[38;5;124m\"\u001b[39m\u001b[38;5;124mvalue\u001b[39m\u001b[38;5;124m\"\u001b[39m] \u001b[38;5;241m=\u001b[39m \u001b[38;5;28mself\u001b[39m\u001b[38;5;241m.\u001b[39m_unwrap_value(response\u001b[38;5;241m.\u001b[39mget(\u001b[38;5;124m\"\u001b[39m\u001b[38;5;124mvalue\u001b[39m\u001b[38;5;124m\"\u001b[39m, \u001b[38;5;28;01mNone\u001b[39;00m))\n\u001b[0;32m    442\u001b[0m     \u001b[38;5;28;01mreturn\u001b[39;00m response\n",
      "File \u001b[1;32mc:\\users\\administrator\\appdata\\local\\programs\\python\\python38\\lib\\site-packages\\selenium\\webdriver\\remote\\errorhandler.py:245\u001b[0m, in \u001b[0;36mErrorHandler.check_response\u001b[1;34m(self, response)\u001b[0m\n\u001b[0;32m    243\u001b[0m         alert_text \u001b[38;5;241m=\u001b[39m value[\u001b[38;5;124m\"\u001b[39m\u001b[38;5;124malert\u001b[39m\u001b[38;5;124m\"\u001b[39m]\u001b[38;5;241m.\u001b[39mget(\u001b[38;5;124m\"\u001b[39m\u001b[38;5;124mtext\u001b[39m\u001b[38;5;124m\"\u001b[39m)\n\u001b[0;32m    244\u001b[0m     \u001b[38;5;28;01mraise\u001b[39;00m exception_class(message, screen, stacktrace, alert_text)  \u001b[38;5;66;03m# type: ignore[call-arg]  # mypy is not smart enough here\u001b[39;00m\n\u001b[1;32m--> 245\u001b[0m \u001b[38;5;28;01mraise\u001b[39;00m exception_class(message, screen, stacktrace)\n",
      "\u001b[1;31mNoSuchElementException\u001b[0m: Message: no such element: Unable to locate element: {\"method\":\"xpath\",\"selector\":\"/html/body/div[2]/div/div/div[3]/div/div/div[1]/div/div[3]/div/div/div/div/div[2]/div/article/div/div[2]/div/div/div[2]/section[3]/div/form/div/textarea\"}\n  (Session info: chrome=113.0.5672.129)\nStacktrace:\nBacktrace:\n\tGetHandleVerifier [0x00F78893+48451]\n\t(No symbol) [0x00F0B8A1]\n\t(No symbol) [0x00E15058]\n\t(No symbol) [0x00E40467]\n\t(No symbol) [0x00E4069B]\n\t(No symbol) [0x00E6DD92]\n\t(No symbol) [0x00E5A304]\n\t(No symbol) [0x00E6C482]\n\t(No symbol) [0x00E5A0B6]\n\t(No symbol) [0x00E37E08]\n\t(No symbol) [0x00E38F2D]\n\tGetHandleVerifier [0x011D8E3A+2540266]\n\tGetHandleVerifier [0x01218959+2801161]\n\tGetHandleVerifier [0x0121295C+2776588]\n\tGetHandleVerifier [0x01002280+612144]\n\t(No symbol) [0x00F14F6C]\n\t(No symbol) [0x00F111D8]\n\t(No symbol) [0x00F112BB]\n\t(No symbol) [0x00F04857]\n\tBaseThreadInitThunk [0x77B600F9+25]\n\tRtlGetAppContainerNamedObjectPath [0x77E27BBE+286]\n\tRtlGetAppContainerNamedObjectPath [0x77E27B8E+238]\n"
     ]
    }
   ],
   "source": [
    "driver = webdriver.Chrome()\n",
    "driver.implicitly_wait(3)\n",
    "\n",
    "url = 'https://www.instagram.com/'\n",
    "driver.get(url)\n",
    "\n",
    "id = 'udirohelper@gmail.com'\n",
    "pw = 'gksgudwls1!'\n",
    "\n",
    "login(id,pw)\n",
    "time.sleep(5)\n",
    "\n",
    "hashtag = '강아지'\n",
    "search_Hashtag(hashtag, 3)\n",
    "time.sleep(5)\n",
    "\n",
    "like_and_comment(15, '귀여워요!', 3)"
   ]
  },
  {
   "cell_type": "code",
   "execution_count": null,
   "id": "66198f01",
   "metadata": {},
   "outputs": [],
   "source": []
  }
 ],
 "metadata": {
  "kernelspec": {
   "display_name": "Python 3 (ipykernel)",
   "language": "python",
   "name": "python3"
  },
  "language_info": {
   "codemirror_mode": {
    "name": "ipython",
    "version": 3
   },
   "file_extension": ".py",
   "mimetype": "text/x-python",
   "name": "python",
   "nbconvert_exporter": "python",
   "pygments_lexer": "ipython3",
   "version": "3.8.6"
  }
 },
 "nbformat": 4,
 "nbformat_minor": 5
}
