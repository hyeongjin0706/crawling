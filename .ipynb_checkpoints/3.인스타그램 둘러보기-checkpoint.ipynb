{
 "cells": [
  {
   "cell_type": "markdown",
   "id": "69803cfc",
   "metadata": {},
   "source": [
    "# 1. 로그인"
   ]
  },
  {
   "cell_type": "code",
   "execution_count": 18,
   "id": "7eda7fee",
   "metadata": {},
   "outputs": [],
   "source": [
    "from selenium import webdriver\n",
    "import time\n",
    "import chromedriver_autoinstaller\n",
    "from selenium.webdriver.common.by import By"
   ]
  },
  {
   "cell_type": "code",
   "execution_count": 21,
   "id": "be7c7489",
   "metadata": {},
   "outputs": [],
   "source": [
    "driver = webdriver.Chrome()"
   ]
  },
  {
   "cell_type": "code",
   "execution_count": null,
   "id": "4eb8430e",
   "metadata": {},
   "outputs": [],
   "source": [
    "# 완벽하게 로드 되기전까지 최대 3초까지 기다림\n",
    "driver.implicitly_wait(3)\n",
    "\n",
    "url = 'https://www.instagram.com/'\n",
    "driver.get(url)\n",
    "\n",
    "id = 'udirohelper@gmail.com'\n",
    "pw = 'gksgudwls1!'\n",
    "\n",
    "# 아이디 입력하는 input 태그 full Xpath\n",
    "# /html/body/div[2]/div/div/div[1]/div/div/div/div[1]/section/main/article/div[2]/div[1]/div[2]/form/div/div[1]/div/label/input\n",
    "\n",
    "# 비밀번호 입력하는 input 태그 full Xpath\n",
    "# /html/body/div[2]/div/div/div[1]/div/div/div/div[1]/section/main/article/div[2]/div[1]/div[2]/form/div/div[2]/div/label/input\n",
    "input_id = driver.find_element(By.XPATH, '/html/body/div[2]/div/div/div[1]/div/div/div/div[1]/section/main/article/div[2]/div[1]/div[2]/form/div/div[1]/div/label/input')\n",
    "input_pw = driver.find_element(By.XPATH, '/html/body/div[2]/div/div/div[1]/div/div/div/div[1]/section/main/article/div[2]/div[1]/div[2]/form/div/div[2]/div/label/input')\n",
    "input_id.send_keys(id)\n",
    "input_pw.send_keys(pw)\n",
    "\n",
    "driver.find_element(By.XPATH, '/html/body/div[2]/div/div/div[1]/div/div/div/div[1]/section/main/article/div[2]/div[1]/div[2]/form/div/div[3]/button').click()\n",
    "time.sleep(5)"
   ]
  },
  {
   "cell_type": "markdown",
   "id": "6a838628",
   "metadata": {},
   "source": [
    "# 2. 해시태그 검색"
   ]
  },
  {
   "cell_type": "code",
   "execution_count": 23,
   "id": "ca7184c4",
   "metadata": {},
   "outputs": [],
   "source": [
    "hashtag = '고양이'\n",
    "url = f'https://www.instagram.com/explore/tags/{hashtag}/'\n",
    "\n",
    "driver.get(url)\n",
    "time.sleep(5)"
   ]
  },
  {
   "cell_type": "markdown",
   "id": "f553cd05",
   "metadata": {},
   "source": [
    "# 3. 스크롤 내리기"
   ]
  },
  {
   "cell_type": "code",
   "execution_count": 25,
   "id": "9d0e8dbf",
   "metadata": {},
   "outputs": [],
   "source": [
    "for _ in range(5):\n",
    "    driver.execute_script('window.scrollTo(0, document.body.scrollHeight)')\n",
    "    time.sleep(5)"
   ]
  },
  {
   "cell_type": "markdown",
   "id": "a96736e2",
   "metadata": {},
   "source": [
    "# 4. 원하는 사진 클릭하기"
   ]
  },
  {
   "cell_type": "code",
   "execution_count": 26,
   "id": "c7addc69",
   "metadata": {},
   "outputs": [],
   "source": [
    "xpath = '/html/body/div[2]/div/div/div[2]/div/div/div/div[1]/div[1]/div[2]/section/main/article/div[2]/div/div[11]/div[2]/a'\n",
    "driver.find_element(By.XPATH, xpath).click()\n",
    "time.sleep(3)"
   ]
  },
  {
   "cell_type": "markdown",
   "id": "c09ae6d9",
   "metadata": {},
   "source": [
    "# 5. 좋아요 클릭하기"
   ]
  },
  {
   "cell_type": "code",
   "execution_count": 27,
   "id": "af45697b",
   "metadata": {},
   "outputs": [],
   "source": [
    "like_xpath = '/html/body/div[2]/div/div/div[3]/div/div/div[1]/div/div[3]/div/div/div/div/div[2]/div/article/div/div[2]/div/div/div[2]/section[1]/span[1]/button'\n",
    "driver.find_element(By.XPATH, like_xpath).click()\n",
    "time.sleep(1)"
   ]
  },
  {
   "cell_type": "markdown",
   "id": "ea72067f",
   "metadata": {},
   "source": [
    "# 6. 댓글 달기"
   ]
  },
  {
   "cell_type": "code",
   "execution_count": 33,
   "id": "3b4b0a95",
   "metadata": {},
   "outputs": [],
   "source": [
    "comment = '귀여워요!'\n",
    "comment_xpath = '/html/body/div[2]/div/div/div[3]/div/div/div[1]/div/div[3]/div/div/div/div/div[2]/div/article/div/div[2]/div/div/div[2]/section[3]/div/form/div/textarea'\n",
    "\n",
    "driver.find_element(By.XPATH, comment_xpath).click()\n",
    "driver.find_element(By.XPATH, comment_xpath).send_keys(comment)\n",
    "time.sleep(3)"
   ]
  },
  {
   "cell_type": "code",
   "execution_count": 34,
   "id": "ba1983f6",
   "metadata": {},
   "outputs": [],
   "source": [
    "send_xpath = '/html/body/div[2]/div/div/div[3]/div/div/div[1]/div/div[3]/div/div/div/div/div[2]/div/article/div/div[2]/div/div/div[2]/section[3]/div/form/div/div[2]/div'\n",
    "driver.find_element(By.XPATH, send_xpath).click()\n",
    "time.sleep(3)"
   ]
  },
  {
   "cell_type": "code",
   "execution_count": 35,
   "id": "0e3dc067",
   "metadata": {},
   "outputs": [],
   "source": [
    "next_xpath = '/html/body/div[2]/div/div/div[3]/div/div/div[1]/div/div[3]/div/div/div/div/div[1]/div/div/div[2]/button'\n",
    "driver.find_element(By.XPATH, next_xpath).click()\n",
    "time.sleep(3)"
   ]
  },
  {
   "cell_type": "markdown",
   "id": "88418d7a",
   "metadata": {},
   "source": [
    "# 6. 함수로 리팩토링"
   ]
  },
  {
   "cell_type": "code",
   "execution_count": 36,
   "id": "80de0f17",
   "metadata": {},
   "outputs": [],
   "source": [
    "# 로그인\n",
    "# 해시태그 검색 함수\n",
    "# 좋아요 및 댓글달기(어떤 사진을 선택할지 index, 댓글, 반복)"
   ]
  },
  {
   "cell_type": "code",
   "execution_count": 47,
   "id": "56e0e557",
   "metadata": {},
   "outputs": [],
   "source": [
    "def login(id, pw): \n",
    "    input_id = driver.find_element(By.XPATH, '/html/body/div[2]/div/div/div[1]/div/div/div/div[1]/section/main/article/div[2]/div[1]/div[2]/form/div/div[1]/div/label/input')\n",
    "    input_pw = driver.find_element(By.XPATH, '/html/body/div[2]/div/div/div[1]/div/div/div/div[1]/section/main/article/div[2]/div[1]/div[2]/form/div/div[2]/div/label/input')\n",
    "    \n",
    "    input_id.send_keys(id)\n",
    "    input_pw.send_keys(pw)\n",
    "\n",
    "    driver.find_element(By.XPATH, '/html/body/div[2]/div/div/div[1]/div/div/div/div[1]/section/main/article/div[2]/div[1]/div[2]/form/div/div[3]/button/div').click()\n",
    "    time.sleep(5)"
   ]
  },
  {
   "cell_type": "code",
   "execution_count": 48,
   "id": "4c17dc71",
   "metadata": {},
   "outputs": [],
   "source": [
    "# hashtag = '고양이'\n",
    "# url = f'https://www.instagram.com/explore/tags/{hashtag}/'\n",
    "\n",
    "# driver.get(url)\n",
    "# time.sleep(5)\n",
    "\n",
    "def search_Hashtag(hashtag, scroll_times):\n",
    "    url = f'https://www.instagram.com/explore/tags/{hashtag}/'\n",
    "    driver.get(url)\n",
    "    time.sleep(5)\n",
    "    \n",
    "    for _ in range(scroll_times):\n",
    "        driver.execute_script('window.scrollTo(0, document.body.scrollHeight)')\n",
    "        time.sleep(5)"
   ]
  },
  {
   "cell_type": "code",
   "execution_count": 51,
   "id": "7c3ce473",
   "metadata": {},
   "outputs": [],
   "source": [
    "def like_and_comment(index, comment, re=1):\n",
    "    row = (index-1) // 3 + 1\n",
    "    col = (index-1) % 3 +1\n",
    "    xpath = f'/html/body/div[2]/div/div/div[2]/div/div/div/div[1]/div[1]/div[2]/section/main/article/div[2]/div/div[{row}]/div[{col}]/a'\n",
    "    driver.find_element(By.XPATH, xpath).click()\n",
    "    time.sleep(3)\n",
    "\n",
    "    for i in range(re):\n",
    "#         like_xpath = '/html/body/div[2]/div/div/div[3]/div/div/div[1]/div/div[3]/div/div/div/div/div[2]/div/article/div/div[2]/div/div/div[2]/section[1]/span[1]/button'\n",
    "#         driver.find_element(By.XPATH, like_xpath).click()\n",
    "#         time.sleep(1)\n",
    "        \n",
    "        comment_xpath = '/html/body/div[2]/div/div/div[3]/div/div/div[1]/div/div[3]/div/div/div/div/div[2]/div/article/div/div[2]/div/div/div[2]/section[3]/div/form/div/textarea'\n",
    "        driver.find_element(By.XPATH, comment_xpath).click()\n",
    "        driver.find_element(By.XPATH, comment_xpath).send_keys(comment)\n",
    "        time.sleep(3)\n",
    "        \n",
    "        send_xpath = '/html/body/div[2]/div/div/div[3]/div/div/div[1]/div/div[3]/div/div/div/div/div[2]/div/article/div/div[2]/div/div/div[2]/section[3]/div/form/div/div[2]/div'\n",
    "        driver.find_element(By.XPATH, send_xpath).click()\n",
    "        time.sleep(3)\n",
    "        \n",
    "        if i+1 < re:\n",
    "            next_xpath = '/html/body/div[2]/div/div/div[3]/div/div/div[1]/div/div[3]/div/div/div/div/div[1]/div/div/div[2]/button'\n",
    "            driver.find_element(By.XPATH, next_xpath).click()\n",
    "            time.sleep(3)"
   ]
  },
  {
   "cell_type": "code",
   "execution_count": 52,
   "id": "46f38e95",
   "metadata": {},
   "outputs": [],
   "source": [
    "driver = webdriver.Chrome()\n",
    "driver.implicitly_wait(3)\n",
    "\n",
    "url = 'https://www.instagram.com/'\n",
    "driver.get(url)\n",
    "\n",
    "id = 'udirohelper@gmail.com'\n",
    "pw = 'gksgudwls1!'\n",
    "\n",
    "login(id,pw)\n",
    "time.sleep(5)\n",
    "\n",
    "hashtag = '강아지'\n",
    "search_Hashtag(hashtag, 3)\n",
    "time.sleep(5)\n",
    "\n",
    "like_and_comment(15, '귀여워요!', 3)"
   ]
  },
  {
   "cell_type": "code",
   "execution_count": null,
   "id": "0ea6a001",
   "metadata": {},
   "outputs": [],
   "source": []
  }
 ],
 "metadata": {
  "kernelspec": {
   "display_name": "Python 3 (ipykernel)",
   "language": "python",
   "name": "python3"
  },
  "language_info": {
   "codemirror_mode": {
    "name": "ipython",
    "version": 3
   },
   "file_extension": ".py",
   "mimetype": "text/x-python",
   "name": "python",
   "nbconvert_exporter": "python",
   "pygments_lexer": "ipython3",
   "version": "3.8.6"
  }
 },
 "nbformat": 4,
 "nbformat_minor": 5
}
